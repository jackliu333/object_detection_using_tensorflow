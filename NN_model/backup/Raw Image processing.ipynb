{
 "cells": [
  {
   "cell_type": "markdown",
   "id": "b007457d-c3a7-44c2-a8b5-101c6f09e5d4",
   "metadata": {},
   "source": [
    "### This notebook collects all images from the folder images_new and compile them together. All images will be in one folder under `data`, along with a cleaned master list file `master_file.csv` specifying the coordinates of the bounding box. "
   ]
  },
  {
   "cell_type": "markdown",
   "id": "6f4c2e2d-80e2-4049-85c2-3c25fe49c82a",
   "metadata": {},
   "source": [
    "# Collect all images in one folder"
   ]
  },
  {
   "cell_type": "code",
   "execution_count": 60,
   "id": "176695c5-d239-4cb6-848f-d55626c6d195",
   "metadata": {},
   "outputs": [],
   "source": [
    "import os\n",
    "import shutil\n",
    "import pandas as pd\n",
    "\n",
    "def collect_images(source_path, destination_folder):\n",
    "    raw_folder = destination_folder\n",
    "    destination_folder = os.path.join(destination_folder, \"data\")\n",
    "    # Create the destination folder if it doesn't exist\n",
    "    if not os.path.exists(destination_folder):\n",
    "        os.makedirs(destination_folder)\n",
    "    else:\n",
    "        shutil.rmtree(destination_folder)\n",
    "        os.makedirs(destination_folder)\n",
    "        \n",
    "    source_folders = os.listdir(source_path)\n",
    "    \n",
    "    all_csv_files = []\n",
    "\n",
    "    for folder in source_folders:\n",
    "        if folder == '.DS_Store':\n",
    "            continue\n",
    "        \n",
    "        tmp_files = os.listdir(os.path.join(source_path, folder))\n",
    "        \n",
    "        if '.DS_Store' in tmp_files:\n",
    "            tmp_files.remove('.DS_Store')\n",
    "        \n",
    "        # check if train folder is available:\n",
    "        if 'train' not in tmp_files:\n",
    "            print(folder)\n",
    "            print(os.listdir(os.path.join(source_path, folder)))\n",
    "            raise ValueError(\"folder structure wrong\")\n",
    "        \n",
    "        # current folder path\n",
    "        tmp_folder = os.path.join(source_path, folder, 'train')\n",
    "        \n",
    "        # move all files in the train folder to the master data folder\n",
    "        for file in os.listdir(tmp_folder):\n",
    "            tmp_source = os.path.join(tmp_folder, file)\n",
    "            \n",
    "            # Check if the file is an image; move all imgs\n",
    "            if file.lower().endswith(('.png', '.jpg', '.jpeg', '.bmp', '.gif')):\n",
    "                # Create a new name for the file in case of duplicates\n",
    "                counter = 1\n",
    "                new_name = file\n",
    "                while os.path.exists(os.path.join(destination_folder, new_name)):\n",
    "                    name, ext = os.path.splitext(file)\n",
    "                    new_name = f\"{name}_{counter}{ext}\"\n",
    "                    counter += 1\n",
    "                \n",
    "                destination = os.path.join(destination_folder, new_name)\n",
    "                \n",
    "                # Copy the image to the destination folder\n",
    "                shutil.copy(tmp_source, destination)\n",
    "            \n",
    "            # read csv annotations\n",
    "            if file.endswith('.csv'):\n",
    "                df = pd.read_csv(tmp_source, header=None, names=['filepath', 'xmin', 'ymin', 'xmax', 'ymax', 'label'])\n",
    "                # use the folder name as the img label\n",
    "                df['label'] = folder.rstrip(\"-2\")\n",
    "                df['folder_name'] = folder\n",
    "                all_csv_files.append(df)\n",
    "\n",
    "                num_files = df.shape[0]\n",
    "                \n",
    "        # check if # imgs in the folder match the # in the csv file\n",
    "        tmp_num_img = [file for file in os.listdir(tmp_folder) if file.lower().endswith(('.png', '.jpg', '.jpeg', '.bmp', '.gif'))]\n",
    "        if num_files != len(tmp_num_img):\n",
    "            print(tmp_folder)   \n",
    "            raise ValueError(\"folder img # mismatch\")\n",
    "        \n",
    "        # check if there is duplicate file name\n",
    "        all_imgs = os.listdir(destination_folder)\n",
    "        \n",
    "        if len(all_imgs) != len(set(all_imgs)):\n",
    "            raise ValueError(\"got duplicate img file name\")\n",
    "    \n",
    "    # Concatenate all the dataframes\n",
    "    annotations = pd.concat(all_csv_files, ignore_index=True)\n",
    "    annotations.to_csv(os.path.join(raw_folder,\"raw_master_list.csv\"), index=False)\n",
    "    \n",
    "\n",
    "\n",
    "    \n",
    "    \n",
    "# source folders containing images\n",
    "source_path = '/Users/liupeng/Documents/GitHub/object_detection_using_tensorflow/images_separate'\n",
    "\n",
    "# Destination folder where all images will be collected\n",
    "destination_folder = '/Users/liupeng/Documents/GitHub/object_detection_using_tensorflow/images_combined' \n",
    "\n",
    "# Collect images\n",
    "collect_images(source_path, destination_folder)\n"
   ]
  },
  {
   "cell_type": "code",
   "execution_count": 61,
   "id": "b773a3a8-9672-4a1a-b449-b9958ed79e55",
   "metadata": {},
   "outputs": [
    {
     "name": "stdout",
     "output_type": "stream",
     "text": [
      "Total # images:  2448\n"
     ]
    }
   ],
   "source": [
    "# summary data\n",
    "print(\"Total # images: \", len(os.listdir(os.path.join(destination_folder,\"data\"))))"
   ]
  },
  {
   "cell_type": "markdown",
   "id": "2b5d8710-204f-465e-b843-38cb475b84b3",
   "metadata": {},
   "source": [
    "# Generate xml files to show bounding boxes"
   ]
  },
  {
   "cell_type": "code",
   "execution_count": 95,
   "id": "ad095e73-0a76-4864-bbac-1dc1fabd2a7b",
   "metadata": {},
   "outputs": [],
   "source": [
    "import xml.etree.ElementTree as ET\n",
    "from PIL import Image\n",
    "\n",
    "def create_xml(file_path, filename, xmin, ymin, xmax, ymax):\n",
    "    \n",
    "    annotation = ET.Element(\"annotation\")\n",
    "    \n",
    "    # Folder\n",
    "    folder = ET.SubElement(annotation, \"folder\")\n",
    "    folder.text = \"data_edit\"\n",
    "\n",
    "    # Filename\n",
    "    filename_xml = ET.SubElement(annotation, \"filename\")\n",
    "    filename_xml.text = filename\n",
    "    \n",
    "    # get file size\n",
    "    # Open an image file\n",
    "    with Image.open(os.path.join(file_path, \"data_edit\", filename)) as img:\n",
    "        # Fetch image dimensions\n",
    "        width, height = img.size\n",
    "\n",
    "    # print(f\"Width: {width}, Height: {height}\")\n",
    "\n",
    "    # Size\n",
    "    size = ET.SubElement(annotation, \"size\")\n",
    "    width_xml = ET.SubElement(size, \"width\")\n",
    "    width_xml.text = str(width)\n",
    "    height_xml = ET.SubElement(size, \"height\")\n",
    "    height_xml.text = str(height)\n",
    "    depth = ET.SubElement(size, \"depth\")\n",
    "    depth.text = \"3\"\n",
    "\n",
    "    # Object\n",
    "    obj = ET.SubElement(annotation, \"object\")\n",
    "    name = ET.SubElement(obj, \"name\")\n",
    "    name.text = \"object_name\"\n",
    "    pose = ET.SubElement(obj, \"pose\")\n",
    "    pose.text = \"Unspecified\"\n",
    "    truncated = ET.SubElement(obj, \"truncated\")\n",
    "    truncated.text = \"0\"\n",
    "    difficult = ET.SubElement(obj, \"difficult\")\n",
    "    difficult.text = \"0\"\n",
    "\n",
    "    # Bounding Box\n",
    "    bndbox = ET.SubElement(obj, \"bndbox\")\n",
    "    xmin_xml = ET.SubElement(bndbox, \"xmin\")\n",
    "    xmin_xml.text = str(xmin)\n",
    "    ymin_xml = ET.SubElement(bndbox, \"ymin\")\n",
    "    ymin_xml.text = str(ymin)\n",
    "    xmax_xml = ET.SubElement(bndbox, \"xmax\")\n",
    "    xmax_xml.text = str(xmax)\n",
    "    ymax_xml = ET.SubElement(bndbox, \"ymax\")\n",
    "    ymax_xml.text = str(ymax)\n",
    "\n",
    "    # Create the XML file\n",
    "    tree = ET.ElementTree(annotation)\n",
    "    # remove .jpg and other appendix\n",
    "    with open(os.path.join(file_path, \"data_edit\", f\"{filename[:-4]}.xml\"), \"wb\") as fh:\n",
    "        tree.write(fh)\n",
    "\n",
    "# Create XML\n",
    "file_path = \"/Users/liupeng/Documents/GitHub/object_detection_using_tensorflow/images_combined\"\n",
    "# filename = \"2023_8_11_11_22_30_553933_png.rf.59102374c2520696d8fe64158b5ccb75.jpg\"\n",
    "# xmin, ymin, xmax, ymax = 31, 179, 319, 562\n",
    "# create_xml(folder, source_folder, filename, xmin, ymin, xmax, ymax)\n",
    "\n",
    "annotations = pd.read_csv(os.path.join(folder,\"raw_master_list.csv\"))\n",
    "for i in range(len(annotations)):\n",
    "    tmp_row = annotations.iloc[i,]\n",
    "    filename = tmp_row['filepath']\n",
    "    xmin = tmp_row['xmin']\n",
    "    ymin = tmp_row['ymin']\n",
    "    xmax = tmp_row['xmax']\n",
    "    ymax = tmp_row['ymax']\n",
    "    create_xml(file_path, filename, xmin, ymin, xmax, ymax)"
   ]
  },
  {
   "cell_type": "markdown",
   "id": "35b6a8f7-4bf7-4b4f-8d52-f59305d35b2c",
   "metadata": {},
   "source": [
    "# Process annotations for multi-label multi-class classification"
   ]
  },
  {
   "cell_type": "code",
   "execution_count": 97,
   "id": "c6e39a62-050f-4426-999e-da8a6a1dd8bf",
   "metadata": {},
   "outputs": [
    {
     "data": {
      "text/plain": [
       "Index(['filepath', 'xmin', 'ymin', 'xmax', 'ymax', 'label', 'folder_name'], dtype='object')"
      ]
     },
     "execution_count": 97,
     "metadata": {},
     "output_type": "execute_result"
    }
   ],
   "source": [
    "annotations.columns"
   ]
  },
  {
   "cell_type": "code",
   "execution_count": 98,
   "id": "20581e6d-b2b5-43e1-912d-14c93cd77072",
   "metadata": {},
   "outputs": [
    {
     "data": {
      "text/html": [
       "<div>\n",
       "<style scoped>\n",
       "    .dataframe tbody tr th:only-of-type {\n",
       "        vertical-align: middle;\n",
       "    }\n",
       "\n",
       "    .dataframe tbody tr th {\n",
       "        vertical-align: top;\n",
       "    }\n",
       "\n",
       "    .dataframe thead th {\n",
       "        text-align: right;\n",
       "    }\n",
       "</style>\n",
       "<table border=\"1\" class=\"dataframe\">\n",
       "  <thead>\n",
       "    <tr style=\"text-align: right;\">\n",
       "      <th></th>\n",
       "      <th>ProductType</th>\n",
       "      <th>Weight</th>\n",
       "      <th>HalalStatus</th>\n",
       "      <th>HealthStatus</th>\n",
       "    </tr>\n",
       "  </thead>\n",
       "  <tbody>\n",
       "    <tr>\n",
       "      <th>0</th>\n",
       "      <td>Sugar</td>\n",
       "      <td>400-499g</td>\n",
       "      <td>NonHalal</td>\n",
       "      <td>NonHealthy</td>\n",
       "    </tr>\n",
       "    <tr>\n",
       "      <th>1</th>\n",
       "      <td>Sugar</td>\n",
       "      <td>400-499g</td>\n",
       "      <td>NonHalal</td>\n",
       "      <td>NonHealthy</td>\n",
       "    </tr>\n",
       "    <tr>\n",
       "      <th>2</th>\n",
       "      <td>Sugar</td>\n",
       "      <td>400-499g</td>\n",
       "      <td>NonHalal</td>\n",
       "      <td>NonHealthy</td>\n",
       "    </tr>\n",
       "    <tr>\n",
       "      <th>3</th>\n",
       "      <td>Sugar</td>\n",
       "      <td>400-499g</td>\n",
       "      <td>NonHalal</td>\n",
       "      <td>NonHealthy</td>\n",
       "    </tr>\n",
       "    <tr>\n",
       "      <th>4</th>\n",
       "      <td>Sugar</td>\n",
       "      <td>400-499g</td>\n",
       "      <td>NonHalal</td>\n",
       "      <td>NonHealthy</td>\n",
       "    </tr>\n",
       "  </tbody>\n",
       "</table>\n",
       "</div>"
      ],
      "text/plain": [
       "  ProductType    Weight HalalStatus HealthStatus\n",
       "0       Sugar  400-499g    NonHalal   NonHealthy\n",
       "1       Sugar  400-499g    NonHalal   NonHealthy\n",
       "2       Sugar  400-499g    NonHalal   NonHealthy\n",
       "3       Sugar  400-499g    NonHalal   NonHealthy\n",
       "4       Sugar  400-499g    NonHalal   NonHealthy"
      ]
     },
     "execution_count": 98,
     "metadata": {},
     "output_type": "execute_result"
    }
   ],
   "source": [
    "label_df = pd.DataFrame([label.split('_') for label in annotations.label], columns=['ProductType', 'Weight', 'HalalStatus', 'HealthStatus'])\n",
    "label_df.head()"
   ]
  },
  {
   "cell_type": "code",
   "execution_count": 100,
   "id": "57e65366-3cf8-4621-a2a6-bbb66d0805cf",
   "metadata": {},
   "outputs": [
    {
     "data": {
      "text/html": [
       "<div>\n",
       "<style scoped>\n",
       "    .dataframe tbody tr th:only-of-type {\n",
       "        vertical-align: middle;\n",
       "    }\n",
       "\n",
       "    .dataframe tbody tr th {\n",
       "        vertical-align: top;\n",
       "    }\n",
       "\n",
       "    .dataframe thead th {\n",
       "        text-align: right;\n",
       "    }\n",
       "</style>\n",
       "<table border=\"1\" class=\"dataframe\">\n",
       "  <thead>\n",
       "    <tr style=\"text-align: right;\">\n",
       "      <th></th>\n",
       "      <th>ProductType</th>\n",
       "      <th>Weight</th>\n",
       "      <th>HalalStatus</th>\n",
       "      <th>HealthStatus</th>\n",
       "    </tr>\n",
       "  </thead>\n",
       "  <tbody>\n",
       "    <tr>\n",
       "      <th>2188</th>\n",
       "      <td>Nonfood</td>\n",
       "      <td>None</td>\n",
       "      <td>None</td>\n",
       "      <td>None</td>\n",
       "    </tr>\n",
       "    <tr>\n",
       "      <th>2189</th>\n",
       "      <td>Nonfood</td>\n",
       "      <td>None</td>\n",
       "      <td>None</td>\n",
       "      <td>None</td>\n",
       "    </tr>\n",
       "    <tr>\n",
       "      <th>2190</th>\n",
       "      <td>Nonfood</td>\n",
       "      <td>None</td>\n",
       "      <td>None</td>\n",
       "      <td>None</td>\n",
       "    </tr>\n",
       "    <tr>\n",
       "      <th>2191</th>\n",
       "      <td>Nonfood</td>\n",
       "      <td>None</td>\n",
       "      <td>None</td>\n",
       "      <td>None</td>\n",
       "    </tr>\n",
       "    <tr>\n",
       "      <th>2192</th>\n",
       "      <td>Nonfood</td>\n",
       "      <td>None</td>\n",
       "      <td>None</td>\n",
       "      <td>None</td>\n",
       "    </tr>\n",
       "  </tbody>\n",
       "</table>\n",
       "</div>"
      ],
      "text/plain": [
       "     ProductType Weight HalalStatus HealthStatus\n",
       "2188     Nonfood   None        None         None\n",
       "2189     Nonfood   None        None         None\n",
       "2190     Nonfood   None        None         None\n",
       "2191     Nonfood   None        None         None\n",
       "2192     Nonfood   None        None         None"
      ]
     },
     "execution_count": 100,
     "metadata": {},
     "output_type": "execute_result"
    }
   ],
   "source": [
    "label_df.loc[label_df.ProductType == \"Nonfood\",].head()"
   ]
  },
  {
   "cell_type": "code",
   "execution_count": 101,
   "id": "546a43d2-4382-49a1-b0fb-57d622d1aa91",
   "metadata": {},
   "outputs": [
    {
     "data": {
      "text/html": [
       "<div>\n",
       "<style scoped>\n",
       "    .dataframe tbody tr th:only-of-type {\n",
       "        vertical-align: middle;\n",
       "    }\n",
       "\n",
       "    .dataframe tbody tr th {\n",
       "        vertical-align: top;\n",
       "    }\n",
       "\n",
       "    .dataframe thead th {\n",
       "        text-align: right;\n",
       "    }\n",
       "</style>\n",
       "<table border=\"1\" class=\"dataframe\">\n",
       "  <thead>\n",
       "    <tr style=\"text-align: right;\">\n",
       "      <th></th>\n",
       "      <th>ProductType</th>\n",
       "      <th>Weight</th>\n",
       "      <th>HalalStatus</th>\n",
       "      <th>HealthStatus</th>\n",
       "    </tr>\n",
       "  </thead>\n",
       "  <tbody>\n",
       "    <tr>\n",
       "      <th>2188</th>\n",
       "      <td>Nonfood</td>\n",
       "      <td>Nonfood</td>\n",
       "      <td>Nonfood</td>\n",
       "      <td>Nonfood</td>\n",
       "    </tr>\n",
       "    <tr>\n",
       "      <th>2189</th>\n",
       "      <td>Nonfood</td>\n",
       "      <td>Nonfood</td>\n",
       "      <td>Nonfood</td>\n",
       "      <td>Nonfood</td>\n",
       "    </tr>\n",
       "    <tr>\n",
       "      <th>2190</th>\n",
       "      <td>Nonfood</td>\n",
       "      <td>Nonfood</td>\n",
       "      <td>Nonfood</td>\n",
       "      <td>Nonfood</td>\n",
       "    </tr>\n",
       "    <tr>\n",
       "      <th>2191</th>\n",
       "      <td>Nonfood</td>\n",
       "      <td>Nonfood</td>\n",
       "      <td>Nonfood</td>\n",
       "      <td>Nonfood</td>\n",
       "    </tr>\n",
       "    <tr>\n",
       "      <th>2192</th>\n",
       "      <td>Nonfood</td>\n",
       "      <td>Nonfood</td>\n",
       "      <td>Nonfood</td>\n",
       "      <td>Nonfood</td>\n",
       "    </tr>\n",
       "  </tbody>\n",
       "</table>\n",
       "</div>"
      ],
      "text/plain": [
       "     ProductType   Weight HalalStatus HealthStatus\n",
       "2188     Nonfood  Nonfood     Nonfood      Nonfood\n",
       "2189     Nonfood  Nonfood     Nonfood      Nonfood\n",
       "2190     Nonfood  Nonfood     Nonfood      Nonfood\n",
       "2191     Nonfood  Nonfood     Nonfood      Nonfood\n",
       "2192     Nonfood  Nonfood     Nonfood      Nonfood"
      ]
     },
     "execution_count": 101,
     "metadata": {},
     "output_type": "execute_result"
    }
   ],
   "source": [
    "# Replace None with \"Nonfood\"\n",
    "label_df.replace({None: 'Nonfood'}, inplace=True)\n",
    "label_df.loc[label_df.ProductType == \"Nonfood\",].head()"
   ]
  },
  {
   "cell_type": "code",
   "execution_count": 99,
   "id": "d7c733af-8bd2-47df-a5fe-90c3a85c3d0d",
   "metadata": {},
   "outputs": [
    {
     "data": {
      "text/plain": [
       "array(['Sugar', 'OtherNoodles', 'Oil', 'Crackers', 'Nuts',\n",
       "       'SweetsChocolatesOthers', 'HoneyOtherSpreads',\n",
       "       'BeehoonVermicelliMeesua', 'Milo-powder-',\n",
       "       'RolledOatsInstantOatmeal', 'OtherSauceDressingSoupbasePaste',\n",
       "       'BiscuitsCrackersCookies', 'Breakfast cereals -cornflakes-',\n",
       "       'Coffee', 'InstantNoodles', 'CerealBeverage-powder-',\n",
       "       'OtherBakingNeeds', 'Cookies', 'Babymilk-powder-',\n",
       "       'MaternalMilkPowder', 'Tea-powder-leaves-', 'Pasta',\n",
       "       'FlavoredMilk', 'Sardines', 'Flour', 'Babyfood',\n",
       "       'PotatochipsKeropok', 'Salt', 'Peanutbutter', 'ChilliSauce',\n",
       "       'NutellaChocolate', 'InstantMeals', 'Kaya', 'Nonfood'],\n",
       "      dtype=object)"
      ]
     },
     "execution_count": 99,
     "metadata": {},
     "output_type": "execute_result"
    }
   ],
   "source": [
    "label_df.ProductType.unique()"
   ]
  },
  {
   "cell_type": "code",
   "execution_count": 102,
   "id": "edb9e03c-ec3f-4c32-b4fc-a246c94b8eb8",
   "metadata": {},
   "outputs": [
    {
     "name": "stdout",
     "output_type": "stream",
     "text": [
      "Number of product types:  34\n"
     ]
    }
   ],
   "source": [
    "print(\"Number of product types: \", label_df.ProductType.nunique())"
   ]
  },
  {
   "cell_type": "code",
   "execution_count": 103,
   "id": "ad4959c0-c359-467e-96f9-f1d8a8339254",
   "metadata": {},
   "outputs": [
    {
     "data": {
      "text/plain": [
       "array(['400-499g', '700-799g', '500-599g', '200-299g', '100-199g',\n",
       "       '1-99g', '300-399g', '600-699g', '800-899g', '1000-1999g',\n",
       "       '900-999g', '3000-3999g', 'Nonfood'], dtype=object)"
      ]
     },
     "execution_count": 103,
     "metadata": {},
     "output_type": "execute_result"
    }
   ],
   "source": [
    "label_df.Weight.unique()"
   ]
  },
  {
   "cell_type": "code",
   "execution_count": 104,
   "id": "64bafc28-0af9-49ca-abc9-8f0d5f5e697d",
   "metadata": {},
   "outputs": [
    {
     "name": "stdout",
     "output_type": "stream",
     "text": [
      "Number of weight types:  13\n"
     ]
    }
   ],
   "source": [
    "print(\"Number of weight types: \", label_df.Weight.nunique())"
   ]
  },
  {
   "cell_type": "code",
   "execution_count": 105,
   "id": "a243a4a6-3cfa-4865-89b1-85ca4faf9dc4",
   "metadata": {},
   "outputs": [
    {
     "data": {
      "text/plain": [
       "array(['NonHalal', 'Halal', 'Nonfood'], dtype=object)"
      ]
     },
     "execution_count": 105,
     "metadata": {},
     "output_type": "execute_result"
    }
   ],
   "source": [
    "label_df.HalalStatus.unique()"
   ]
  },
  {
   "cell_type": "code",
   "execution_count": 106,
   "id": "9278819a-929c-4554-8083-690d7c789ee0",
   "metadata": {},
   "outputs": [
    {
     "data": {
      "text/plain": [
       "array(['NonHealthy', 'Healthy', 'Nonfood'], dtype=object)"
      ]
     },
     "execution_count": 106,
     "metadata": {},
     "output_type": "execute_result"
    }
   ],
   "source": [
    "label_df.HealthStatus.unique()"
   ]
  },
  {
   "cell_type": "code",
   "execution_count": 109,
   "id": "bc4a5b24-6abb-4be9-a0f1-40932e4e56c0",
   "metadata": {},
   "outputs": [],
   "source": [
    "# label_df_encoded = pd.get_dummies(label_df, columns=['ProductType', 'Weight', 'HalalStatus', 'HealthStatus'])\n",
    "# label_df_encoded.head()"
   ]
  },
  {
   "cell_type": "code",
   "execution_count": 112,
   "id": "8fae2594-e4dd-4a35-a3eb-f1a3fb0369a4",
   "metadata": {},
   "outputs": [],
   "source": [
    "file_path = \"/Users/liupeng/Documents/GitHub/object_detection_using_tensorflow/images_combined\"\n",
    "\n",
    "annotations2 = pd.concat([annotations, label_df], axis=1)\n",
    "annotations2.to_csv(os.path.join(file_path,\"raw_master_list2.csv\"), index=False)"
   ]
  },
  {
   "cell_type": "code",
   "execution_count": null,
   "id": "a907fbef-53d4-4898-a63b-76e28861059b",
   "metadata": {},
   "outputs": [],
   "source": []
  }
 ],
 "metadata": {
  "kernelspec": {
   "display_name": "fb_py38",
   "language": "python",
   "name": "fb_py38"
  },
  "language_info": {
   "codemirror_mode": {
    "name": "ipython",
    "version": 3
   },
   "file_extension": ".py",
   "mimetype": "text/x-python",
   "name": "python",
   "nbconvert_exporter": "python",
   "pygments_lexer": "ipython3",
   "version": "3.8.16"
  }
 },
 "nbformat": 4,
 "nbformat_minor": 5
}
