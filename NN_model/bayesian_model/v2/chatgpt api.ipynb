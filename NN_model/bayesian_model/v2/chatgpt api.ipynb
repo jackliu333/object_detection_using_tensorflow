{
 "cells": [
  {
   "cell_type": "code",
   "execution_count": 1,
   "id": "12dde788-c6e2-472a-a3d6-7f100b6eaff1",
   "metadata": {},
   "outputs": [],
   "source": [
    "from pprint import pprint\n",
    "import base64\n",
    "import json\n",
    "import mimetypes\n",
    "import os\n",
    "import requests\n",
    "import sys\n",
    "import pandas as pd\n",
    "from openai import OpenAI"
   ]
  },
  {
   "cell_type": "markdown",
   "id": "801e0654-9c4c-4b32-91b1-97a03c5d5b7b",
   "metadata": {},
   "source": [
    "# Prepare images to call gpt api"
   ]
  },
  {
   "cell_type": "code",
   "execution_count": 2,
   "id": "1912dfc3-6aed-425e-a48c-7aa88b8676ca",
   "metadata": {},
   "outputs": [
    {
     "name": "stdout",
     "output_type": "stream",
     "text": [
      "(4454, 12)\n"
     ]
    },
    {
     "data": {
      "text/html": [
       "<div>\n",
       "<style scoped>\n",
       "    .dataframe tbody tr th:only-of-type {\n",
       "        vertical-align: middle;\n",
       "    }\n",
       "\n",
       "    .dataframe tbody tr th {\n",
       "        vertical-align: top;\n",
       "    }\n",
       "\n",
       "    .dataframe thead th {\n",
       "        text-align: right;\n",
       "    }\n",
       "</style>\n",
       "<table border=\"1\" class=\"dataframe\">\n",
       "  <thead>\n",
       "    <tr style=\"text-align: right;\">\n",
       "      <th></th>\n",
       "      <th>filepath</th>\n",
       "      <th>xmin</th>\n",
       "      <th>ymin</th>\n",
       "      <th>xmax</th>\n",
       "      <th>ymax</th>\n",
       "      <th>label</th>\n",
       "      <th>ProductType</th>\n",
       "      <th>Weight</th>\n",
       "      <th>HalalStatus</th>\n",
       "      <th>HealthStatus</th>\n",
       "      <th>new_camera</th>\n",
       "      <th>tag</th>\n",
       "    </tr>\n",
       "  </thead>\n",
       "  <tbody>\n",
       "    <tr>\n",
       "      <th>0</th>\n",
       "      <td>IMG_20230428_123528_jpg.rf.5687b7b914f6d9aa98c...</td>\n",
       "      <td>151</td>\n",
       "      <td>42</td>\n",
       "      <td>497</td>\n",
       "      <td>591</td>\n",
       "      <td>Sugar_400-499g_NonHalal_NonHealthy</td>\n",
       "      <td>Sugar</td>\n",
       "      <td>400-499g</td>\n",
       "      <td>NonHalal</td>\n",
       "      <td>NonHealthy</td>\n",
       "      <td>0</td>\n",
       "      <td>NaN</td>\n",
       "    </tr>\n",
       "    <tr>\n",
       "      <th>1</th>\n",
       "      <td>IMG_20230428_123522_jpg.rf.204ff37f497f2dce442...</td>\n",
       "      <td>88</td>\n",
       "      <td>81</td>\n",
       "      <td>442</td>\n",
       "      <td>567</td>\n",
       "      <td>Sugar_400-499g_NonHalal_NonHealthy</td>\n",
       "      <td>Sugar</td>\n",
       "      <td>400-499g</td>\n",
       "      <td>NonHalal</td>\n",
       "      <td>NonHealthy</td>\n",
       "      <td>0</td>\n",
       "      <td>NaN</td>\n",
       "    </tr>\n",
       "    <tr>\n",
       "      <th>2</th>\n",
       "      <td>IMG_20230428_123708_jpg.rf.141ecd0cefaea75c0b7...</td>\n",
       "      <td>35</td>\n",
       "      <td>34</td>\n",
       "      <td>492</td>\n",
       "      <td>622</td>\n",
       "      <td>Sugar_400-499g_NonHalal_NonHealthy</td>\n",
       "      <td>Sugar</td>\n",
       "      <td>400-499g</td>\n",
       "      <td>NonHalal</td>\n",
       "      <td>NonHealthy</td>\n",
       "      <td>0</td>\n",
       "      <td>NaN</td>\n",
       "    </tr>\n",
       "    <tr>\n",
       "      <th>3</th>\n",
       "      <td>IMG_20230428_123521_jpg.rf.1069b402272252862ec...</td>\n",
       "      <td>99</td>\n",
       "      <td>122</td>\n",
       "      <td>428</td>\n",
       "      <td>587</td>\n",
       "      <td>Sugar_400-499g_NonHalal_NonHealthy</td>\n",
       "      <td>Sugar</td>\n",
       "      <td>400-499g</td>\n",
       "      <td>NonHalal</td>\n",
       "      <td>NonHealthy</td>\n",
       "      <td>0</td>\n",
       "      <td>NaN</td>\n",
       "    </tr>\n",
       "    <tr>\n",
       "      <th>4</th>\n",
       "      <td>IMG_20230428_123659_jpg.rf.5e1b6c4caabe48cf360...</td>\n",
       "      <td>103</td>\n",
       "      <td>17</td>\n",
       "      <td>474</td>\n",
       "      <td>592</td>\n",
       "      <td>Sugar_400-499g_NonHalal_NonHealthy</td>\n",
       "      <td>Sugar</td>\n",
       "      <td>400-499g</td>\n",
       "      <td>NonHalal</td>\n",
       "      <td>NonHealthy</td>\n",
       "      <td>0</td>\n",
       "      <td>NaN</td>\n",
       "    </tr>\n",
       "  </tbody>\n",
       "</table>\n",
       "</div>"
      ],
      "text/plain": [
       "                                            filepath  xmin  ymin  xmax  ymax  \\\n",
       "0  IMG_20230428_123528_jpg.rf.5687b7b914f6d9aa98c...   151    42   497   591   \n",
       "1  IMG_20230428_123522_jpg.rf.204ff37f497f2dce442...    88    81   442   567   \n",
       "2  IMG_20230428_123708_jpg.rf.141ecd0cefaea75c0b7...    35    34   492   622   \n",
       "3  IMG_20230428_123521_jpg.rf.1069b402272252862ec...    99   122   428   587   \n",
       "4  IMG_20230428_123659_jpg.rf.5e1b6c4caabe48cf360...   103    17   474   592   \n",
       "\n",
       "                                label ProductType    Weight HalalStatus  \\\n",
       "0  Sugar_400-499g_NonHalal_NonHealthy       Sugar  400-499g    NonHalal   \n",
       "1  Sugar_400-499g_NonHalal_NonHealthy       Sugar  400-499g    NonHalal   \n",
       "2  Sugar_400-499g_NonHalal_NonHealthy       Sugar  400-499g    NonHalal   \n",
       "3  Sugar_400-499g_NonHalal_NonHealthy       Sugar  400-499g    NonHalal   \n",
       "4  Sugar_400-499g_NonHalal_NonHealthy       Sugar  400-499g    NonHalal   \n",
       "\n",
       "  HealthStatus  new_camera  tag  \n",
       "0   NonHealthy           0  NaN  \n",
       "1   NonHealthy           0  NaN  \n",
       "2   NonHealthy           0  NaN  \n",
       "3   NonHealthy           0  NaN  \n",
       "4   NonHealthy           0  NaN  "
      ]
     },
     "execution_count": 2,
     "metadata": {},
     "output_type": "execute_result"
    }
   ],
   "source": [
    "master_df = pd.read_csv(\"../../master_list.csv\")\n",
    "print(master_df.shape)\n",
    "master_df.head()"
   ]
  },
  {
   "cell_type": "code",
   "execution_count": 3,
   "id": "a1d25ca0-7b4a-474e-8d2f-cc61429578e6",
   "metadata": {},
   "outputs": [
    {
     "data": {
      "text/html": [
       "<div>\n",
       "<style scoped>\n",
       "    .dataframe tbody tr th:only-of-type {\n",
       "        vertical-align: middle;\n",
       "    }\n",
       "\n",
       "    .dataframe tbody tr th {\n",
       "        vertical-align: top;\n",
       "    }\n",
       "\n",
       "    .dataframe thead th {\n",
       "        text-align: right;\n",
       "    }\n",
       "</style>\n",
       "<table border=\"1\" class=\"dataframe\">\n",
       "  <thead>\n",
       "    <tr style=\"text-align: right;\">\n",
       "      <th></th>\n",
       "      <th>filepath</th>\n",
       "      <th>label</th>\n",
       "      <th>ProductType</th>\n",
       "      <th>Weight</th>\n",
       "      <th>HalalStatus</th>\n",
       "      <th>HealthStatus</th>\n",
       "      <th>new_camera</th>\n",
       "      <th>tag</th>\n",
       "      <th>group</th>\n",
       "    </tr>\n",
       "  </thead>\n",
       "  <tbody>\n",
       "    <tr>\n",
       "      <th>0</th>\n",
       "      <td>IMG_20230428_123528_jpg.rf.5687b7b914f6d9aa98c...</td>\n",
       "      <td>Sugar_400-499g_NonHalal_NonHealthy</td>\n",
       "      <td>Sugar</td>\n",
       "      <td>400-499g</td>\n",
       "      <td>NonHalal</td>\n",
       "      <td>NonHealthy</td>\n",
       "      <td>0</td>\n",
       "      <td>NaN</td>\n",
       "      <td>1</td>\n",
       "    </tr>\n",
       "    <tr>\n",
       "      <th>1</th>\n",
       "      <td>IMG_20230428_123522_jpg.rf.204ff37f497f2dce442...</td>\n",
       "      <td>Sugar_400-499g_NonHalal_NonHealthy</td>\n",
       "      <td>Sugar</td>\n",
       "      <td>400-499g</td>\n",
       "      <td>NonHalal</td>\n",
       "      <td>NonHealthy</td>\n",
       "      <td>0</td>\n",
       "      <td>NaN</td>\n",
       "      <td>1</td>\n",
       "    </tr>\n",
       "    <tr>\n",
       "      <th>2</th>\n",
       "      <td>IMG_20230428_123708_jpg.rf.141ecd0cefaea75c0b7...</td>\n",
       "      <td>Sugar_400-499g_NonHalal_NonHealthy</td>\n",
       "      <td>Sugar</td>\n",
       "      <td>400-499g</td>\n",
       "      <td>NonHalal</td>\n",
       "      <td>NonHealthy</td>\n",
       "      <td>0</td>\n",
       "      <td>NaN</td>\n",
       "      <td>2</td>\n",
       "    </tr>\n",
       "    <tr>\n",
       "      <th>3</th>\n",
       "      <td>IMG_20230428_123521_jpg.rf.1069b402272252862ec...</td>\n",
       "      <td>Sugar_400-499g_NonHalal_NonHealthy</td>\n",
       "      <td>Sugar</td>\n",
       "      <td>400-499g</td>\n",
       "      <td>NonHalal</td>\n",
       "      <td>NonHealthy</td>\n",
       "      <td>0</td>\n",
       "      <td>NaN</td>\n",
       "      <td>1</td>\n",
       "    </tr>\n",
       "    <tr>\n",
       "      <th>4</th>\n",
       "      <td>IMG_20230428_123659_jpg.rf.5e1b6c4caabe48cf360...</td>\n",
       "      <td>Sugar_400-499g_NonHalal_NonHealthy</td>\n",
       "      <td>Sugar</td>\n",
       "      <td>400-499g</td>\n",
       "      <td>NonHalal</td>\n",
       "      <td>NonHealthy</td>\n",
       "      <td>0</td>\n",
       "      <td>NaN</td>\n",
       "      <td>2</td>\n",
       "    </tr>\n",
       "  </tbody>\n",
       "</table>\n",
       "</div>"
      ],
      "text/plain": [
       "                                            filepath  \\\n",
       "0  IMG_20230428_123528_jpg.rf.5687b7b914f6d9aa98c...   \n",
       "1  IMG_20230428_123522_jpg.rf.204ff37f497f2dce442...   \n",
       "2  IMG_20230428_123708_jpg.rf.141ecd0cefaea75c0b7...   \n",
       "3  IMG_20230428_123521_jpg.rf.1069b402272252862ec...   \n",
       "4  IMG_20230428_123659_jpg.rf.5e1b6c4caabe48cf360...   \n",
       "\n",
       "                                label ProductType    Weight HalalStatus  \\\n",
       "0  Sugar_400-499g_NonHalal_NonHealthy       Sugar  400-499g    NonHalal   \n",
       "1  Sugar_400-499g_NonHalal_NonHealthy       Sugar  400-499g    NonHalal   \n",
       "2  Sugar_400-499g_NonHalal_NonHealthy       Sugar  400-499g    NonHalal   \n",
       "3  Sugar_400-499g_NonHalal_NonHealthy       Sugar  400-499g    NonHalal   \n",
       "4  Sugar_400-499g_NonHalal_NonHealthy       Sugar  400-499g    NonHalal   \n",
       "\n",
       "  HealthStatus  new_camera  tag  group  \n",
       "0   NonHealthy           0  NaN      1  \n",
       "1   NonHealthy           0  NaN      1  \n",
       "2   NonHealthy           0  NaN      2  \n",
       "3   NonHealthy           0  NaN      1  \n",
       "4   NonHealthy           0  NaN      2  "
      ]
     },
     "execution_count": 3,
     "metadata": {},
     "output_type": "execute_result"
    }
   ],
   "source": [
    "prd_group_df = pd.read_csv(\"../product_group.csv\")\n",
    "prd_group_df['group'] = prd_group_df['group'].astype('Int64')\n",
    "prd_group_df = prd_group_df.loc[prd_group_df['tag'] != \"test\",]\n",
    "prd_group_df.head()"
   ]
  },
  {
   "cell_type": "code",
   "execution_count": 4,
   "id": "b3c25364-7509-4d1e-bf84-c01e23997bc7",
   "metadata": {},
   "outputs": [
    {
     "name": "stdout",
     "output_type": "stream",
     "text": [
      "(2947, 13)\n"
     ]
    },
    {
     "data": {
      "text/html": [
       "<div>\n",
       "<style scoped>\n",
       "    .dataframe tbody tr th:only-of-type {\n",
       "        vertical-align: middle;\n",
       "    }\n",
       "\n",
       "    .dataframe tbody tr th {\n",
       "        vertical-align: top;\n",
       "    }\n",
       "\n",
       "    .dataframe thead th {\n",
       "        text-align: right;\n",
       "    }\n",
       "</style>\n",
       "<table border=\"1\" class=\"dataframe\">\n",
       "  <thead>\n",
       "    <tr style=\"text-align: right;\">\n",
       "      <th></th>\n",
       "      <th>filepath</th>\n",
       "      <th>xmin</th>\n",
       "      <th>ymin</th>\n",
       "      <th>xmax</th>\n",
       "      <th>ymax</th>\n",
       "      <th>label</th>\n",
       "      <th>ProductType</th>\n",
       "      <th>Weight</th>\n",
       "      <th>HalalStatus</th>\n",
       "      <th>HealthStatus</th>\n",
       "      <th>new_camera</th>\n",
       "      <th>tag</th>\n",
       "      <th>group</th>\n",
       "    </tr>\n",
       "  </thead>\n",
       "  <tbody>\n",
       "    <tr>\n",
       "      <th>0</th>\n",
       "      <td>IMG_20230428_123528_jpg.rf.5687b7b914f6d9aa98c...</td>\n",
       "      <td>151</td>\n",
       "      <td>42</td>\n",
       "      <td>497</td>\n",
       "      <td>591</td>\n",
       "      <td>Sugar_400-499g_NonHalal_NonHealthy</td>\n",
       "      <td>Sugar</td>\n",
       "      <td>400-499g</td>\n",
       "      <td>NonHalal</td>\n",
       "      <td>NonHealthy</td>\n",
       "      <td>0</td>\n",
       "      <td>NaN</td>\n",
       "      <td>1</td>\n",
       "    </tr>\n",
       "    <tr>\n",
       "      <th>1</th>\n",
       "      <td>IMG_20230428_123522_jpg.rf.204ff37f497f2dce442...</td>\n",
       "      <td>88</td>\n",
       "      <td>81</td>\n",
       "      <td>442</td>\n",
       "      <td>567</td>\n",
       "      <td>Sugar_400-499g_NonHalal_NonHealthy</td>\n",
       "      <td>Sugar</td>\n",
       "      <td>400-499g</td>\n",
       "      <td>NonHalal</td>\n",
       "      <td>NonHealthy</td>\n",
       "      <td>0</td>\n",
       "      <td>NaN</td>\n",
       "      <td>1</td>\n",
       "    </tr>\n",
       "    <tr>\n",
       "      <th>2</th>\n",
       "      <td>IMG_20230428_123708_jpg.rf.141ecd0cefaea75c0b7...</td>\n",
       "      <td>35</td>\n",
       "      <td>34</td>\n",
       "      <td>492</td>\n",
       "      <td>622</td>\n",
       "      <td>Sugar_400-499g_NonHalal_NonHealthy</td>\n",
       "      <td>Sugar</td>\n",
       "      <td>400-499g</td>\n",
       "      <td>NonHalal</td>\n",
       "      <td>NonHealthy</td>\n",
       "      <td>0</td>\n",
       "      <td>NaN</td>\n",
       "      <td>2</td>\n",
       "    </tr>\n",
       "    <tr>\n",
       "      <th>3</th>\n",
       "      <td>IMG_20230428_123521_jpg.rf.1069b402272252862ec...</td>\n",
       "      <td>99</td>\n",
       "      <td>122</td>\n",
       "      <td>428</td>\n",
       "      <td>587</td>\n",
       "      <td>Sugar_400-499g_NonHalal_NonHealthy</td>\n",
       "      <td>Sugar</td>\n",
       "      <td>400-499g</td>\n",
       "      <td>NonHalal</td>\n",
       "      <td>NonHealthy</td>\n",
       "      <td>0</td>\n",
       "      <td>NaN</td>\n",
       "      <td>1</td>\n",
       "    </tr>\n",
       "    <tr>\n",
       "      <th>4</th>\n",
       "      <td>IMG_20230428_123659_jpg.rf.5e1b6c4caabe48cf360...</td>\n",
       "      <td>103</td>\n",
       "      <td>17</td>\n",
       "      <td>474</td>\n",
       "      <td>592</td>\n",
       "      <td>Sugar_400-499g_NonHalal_NonHealthy</td>\n",
       "      <td>Sugar</td>\n",
       "      <td>400-499g</td>\n",
       "      <td>NonHalal</td>\n",
       "      <td>NonHealthy</td>\n",
       "      <td>0</td>\n",
       "      <td>NaN</td>\n",
       "      <td>2</td>\n",
       "    </tr>\n",
       "  </tbody>\n",
       "</table>\n",
       "</div>"
      ],
      "text/plain": [
       "                                            filepath  xmin  ymin  xmax  ymax  \\\n",
       "0  IMG_20230428_123528_jpg.rf.5687b7b914f6d9aa98c...   151    42   497   591   \n",
       "1  IMG_20230428_123522_jpg.rf.204ff37f497f2dce442...    88    81   442   567   \n",
       "2  IMG_20230428_123708_jpg.rf.141ecd0cefaea75c0b7...    35    34   492   622   \n",
       "3  IMG_20230428_123521_jpg.rf.1069b402272252862ec...    99   122   428   587   \n",
       "4  IMG_20230428_123659_jpg.rf.5e1b6c4caabe48cf360...   103    17   474   592   \n",
       "\n",
       "                                label ProductType    Weight HalalStatus  \\\n",
       "0  Sugar_400-499g_NonHalal_NonHealthy       Sugar  400-499g    NonHalal   \n",
       "1  Sugar_400-499g_NonHalal_NonHealthy       Sugar  400-499g    NonHalal   \n",
       "2  Sugar_400-499g_NonHalal_NonHealthy       Sugar  400-499g    NonHalal   \n",
       "3  Sugar_400-499g_NonHalal_NonHealthy       Sugar  400-499g    NonHalal   \n",
       "4  Sugar_400-499g_NonHalal_NonHealthy       Sugar  400-499g    NonHalal   \n",
       "\n",
       "  HealthStatus  new_camera  tag  group  \n",
       "0   NonHealthy           0  NaN      1  \n",
       "1   NonHealthy           0  NaN      1  \n",
       "2   NonHealthy           0  NaN      2  \n",
       "3   NonHealthy           0  NaN      1  \n",
       "4   NonHealthy           0  NaN      2  "
      ]
     },
     "execution_count": 4,
     "metadata": {},
     "output_type": "execute_result"
    }
   ],
   "source": [
    "total_df = pd.merge(master_df, prd_group_df[['filepath','group']], on='filepath', how='left')\n",
    "total_df = total_df.dropna(subset=['group'])\n",
    "total_df = total_df.reset_index(drop=True)\n",
    "print(total_df.shape)\n",
    "total_df.head()"
   ]
  },
  {
   "cell_type": "code",
   "execution_count": 5,
   "id": "51f4d35c-c118-41f1-ba8b-51a7957773d9",
   "metadata": {},
   "outputs": [
    {
     "name": "stdout",
     "output_type": "stream",
     "text": [
      "(351, 3)\n"
     ]
    },
    {
     "data": {
      "text/html": [
       "<div>\n",
       "<style scoped>\n",
       "    .dataframe tbody tr th:only-of-type {\n",
       "        vertical-align: middle;\n",
       "    }\n",
       "\n",
       "    .dataframe tbody tr th {\n",
       "        vertical-align: top;\n",
       "    }\n",
       "\n",
       "    .dataframe thead th {\n",
       "        text-align: right;\n",
       "    }\n",
       "</style>\n",
       "<table border=\"1\" class=\"dataframe\">\n",
       "  <thead>\n",
       "    <tr style=\"text-align: right;\">\n",
       "      <th></th>\n",
       "      <th>label</th>\n",
       "      <th>group</th>\n",
       "      <th>filepath</th>\n",
       "    </tr>\n",
       "  </thead>\n",
       "  <tbody>\n",
       "    <tr>\n",
       "      <th>0</th>\n",
       "      <td>AdultMilk_1-99g_Halal_NonHealthy</td>\n",
       "      <td>1</td>\n",
       "      <td>2023_10_25_11_23_10_398347.jpg</td>\n",
       "    </tr>\n",
       "    <tr>\n",
       "      <th>1</th>\n",
       "      <td>AdultMilk_1-99g_Halal_NonHealthy</td>\n",
       "      <td>2</td>\n",
       "      <td>2023_10_25_11_29_12_163138.jpg</td>\n",
       "    </tr>\n",
       "    <tr>\n",
       "      <th>2</th>\n",
       "      <td>AdultMilk_1-99g_Halal_NonHealthy</td>\n",
       "      <td>3</td>\n",
       "      <td>2023_10_25_11_30_13_941552.jpg</td>\n",
       "    </tr>\n",
       "    <tr>\n",
       "      <th>3</th>\n",
       "      <td>AdultMilk_1000-1999g_Halal_NonHealthy</td>\n",
       "      <td>1</td>\n",
       "      <td>2023_10_25_11_18_17_414290.jpg</td>\n",
       "    </tr>\n",
       "    <tr>\n",
       "      <th>4</th>\n",
       "      <td>AdultMilk_1000-1999g_Halal_NonHealthy</td>\n",
       "      <td>2</td>\n",
       "      <td>2023_10_25_11_24_30_751596.jpg</td>\n",
       "    </tr>\n",
       "  </tbody>\n",
       "</table>\n",
       "</div>"
      ],
      "text/plain": [
       "                                   label  group  \\\n",
       "0       AdultMilk_1-99g_Halal_NonHealthy      1   \n",
       "1       AdultMilk_1-99g_Halal_NonHealthy      2   \n",
       "2       AdultMilk_1-99g_Halal_NonHealthy      3   \n",
       "3  AdultMilk_1000-1999g_Halal_NonHealthy      1   \n",
       "4  AdultMilk_1000-1999g_Halal_NonHealthy      2   \n",
       "\n",
       "                         filepath  \n",
       "0  2023_10_25_11_23_10_398347.jpg  \n",
       "1  2023_10_25_11_29_12_163138.jpg  \n",
       "2  2023_10_25_11_30_13_941552.jpg  \n",
       "3  2023_10_25_11_18_17_414290.jpg  \n",
       "4  2023_10_25_11_24_30_751596.jpg  "
      ]
     },
     "execution_count": 5,
     "metadata": {},
     "output_type": "execute_result"
    }
   ],
   "source": [
    "result_df = total_df.groupby(['label', 'group'])['filepath'].first().reset_index()\n",
    "print(result_df.shape)\n",
    "result_df.head()"
   ]
  },
  {
   "cell_type": "code",
   "execution_count": 6,
   "id": "6ad2ca83-ae2f-4e22-bfc3-2ca4fff58130",
   "metadata": {},
   "outputs": [
    {
     "data": {
      "text/plain": [
       "array(['Sugar', 'OtherNoodles', 'Oil', 'BiscuitsCrackersCookies', 'Nuts',\n",
       "       'HoneyOtherSpreads', 'BeehoonVermicelli', 'MiloPowder',\n",
       "       'RolledOatsInstantOatmeal', 'OtherSauceDressing',\n",
       "       'SweetsChocolatesOthers', 'BreakfastCereals', 'Coffee',\n",
       "       'InstantNoodles', 'CerealBeveragePowder', 'OtherBakingNeeds',\n",
       "       'BabyMilkPowder', 'MaternalMilkPowder', 'TeaPowderLeaves', 'Pasta',\n",
       "       'FlavoredMilk', 'Sardines', 'Flour', 'Babyfood', 'Potatochips',\n",
       "       'Salt', 'Peanutbutter', 'ChilliSauce', 'NutellaChocolate',\n",
       "       'InstantMeals', 'Kaya', 'AdultMilk', 'CannedPacketCreamersSweet',\n",
       "       'CornChip', 'SoftDrinks', 'OtherDriedFood', 'FruitJuice',\n",
       "       'CannedBakedBeans', 'CannedBeefOtherMeats', 'CannedBraisedPeanuts',\n",
       "       'CannedChicken', 'CannedFruitsCocktail', 'CannedMashrooms',\n",
       "       'CannedPickles', 'CannedPorkLunchronMeat', 'CannedSardingMackerel',\n",
       "       'CannedSoup', 'CannedTunaDace', 'CannedVegetarianFood',\n",
       "       'ChocolateMaltPowder', 'CoffeePowder', 'CookingCreamMilk',\n",
       "       'CurryPastePowderSauce', 'DarkSoySauce', 'DriedBeans', 'DriedFood',\n",
       "       'DriedFruits', 'DriedMeatSeafood', 'DriedVegetables',\n",
       "       'HeabsSpicesPepper', 'Jam', 'KetchupChillSauce', 'LightSoySauce',\n",
       "       'MilkDrink', 'MilkPowder', 'OtherCannedBeansPeasPeanuts',\n",
       "       'OtherCannedSeafood', 'OtherCannedVegetables', 'OtherHotBeverages',\n",
       "       'OtherSpreads', 'PastaSauce', 'SoftDrinksOtherReadyToDrink',\n",
       "       'SoupStock', 'TeaDrink'], dtype=object)"
      ]
     },
     "execution_count": 6,
     "metadata": {},
     "output_type": "execute_result"
    }
   ],
   "source": [
    "total_df['ProductType'].unique()"
   ]
  },
  {
   "cell_type": "code",
   "execution_count": 7,
   "id": "25cd2fdd-1c7a-4253-be91-ab88939a3be1",
   "metadata": {},
   "outputs": [
    {
     "data": {
      "text/plain": [
       "array(['400-499g', '700-799g', '500-599g', '200-299g', '100-199g',\n",
       "       '1-99g', '300-399g', '600-699g', '800-899g', '1000-1999g',\n",
       "       '900-999g', '3000-3999g'], dtype=object)"
      ]
     },
     "execution_count": 7,
     "metadata": {},
     "output_type": "execute_result"
    }
   ],
   "source": [
    "total_df['Weight'].unique()"
   ]
  },
  {
   "cell_type": "code",
   "execution_count": 8,
   "id": "1ebe0447-0aa0-47de-a116-866b07fae13f",
   "metadata": {},
   "outputs": [
    {
     "data": {
      "text/plain": [
       "array(['NonHalal', 'Halal'], dtype=object)"
      ]
     },
     "execution_count": 8,
     "metadata": {},
     "output_type": "execute_result"
    }
   ],
   "source": [
    "total_df['HalalStatus'].unique()"
   ]
  },
  {
   "cell_type": "code",
   "execution_count": 9,
   "id": "3ec13194-892c-49c1-ab50-d7571cc56dc1",
   "metadata": {},
   "outputs": [
    {
     "data": {
      "text/plain": [
       "array(['NonHealthy', 'Healthy'], dtype=object)"
      ]
     },
     "execution_count": 9,
     "metadata": {},
     "output_type": "execute_result"
    }
   ],
   "source": [
    "total_df['HealthStatus'].unique()"
   ]
  },
  {
   "cell_type": "markdown",
   "id": "9dadffd3-6807-4766-aafd-65b2598ca10b",
   "metadata": {},
   "source": [
    "# Call gpt to recognize product, weight, halal and health"
   ]
  },
  {
   "cell_type": "code",
   "execution_count": 15,
   "id": "c0461976-2612-42b2-b303-39dbc05716ec",
   "metadata": {},
   "outputs": [],
   "source": [
    "import base64\n",
    "\n",
    "def encode_image(image_path):\n",
    "    \"\"\"Encodes an image to Base64.\"\"\"\n",
    "    with open(image_path, \"rb\") as image_file:\n",
    "        return base64.b64encode(image_file.read()).decode('utf-8')\n"
   ]
  },
  {
   "cell_type": "code",
   "execution_count": 16,
   "id": "5a1a4137-e1c0-438e-b5b2-20756019a731",
   "metadata": {},
   "outputs": [],
   "source": [
    "with open('/Users/liupeng/Desktop/Research/api.txt', 'r') as file:\n",
    "    api_key = file.read()"
   ]
  },
  {
   "cell_type": "code",
   "execution_count": 17,
   "id": "fc390447-5a65-4072-bc69-59a52dd343c6",
   "metadata": {},
   "outputs": [],
   "source": [
    "exisitng_paths = []"
   ]
  },
  {
   "cell_type": "code",
   "execution_count": 18,
   "id": "e5634cc0-4002-457b-88d9-ab6577610e14",
   "metadata": {},
   "outputs": [],
   "source": [
    "image_paths = total_df['filepath']\n",
    "new_paths = [i for i in image_paths if i not in exisitng_paths]"
   ]
  },
  {
   "cell_type": "code",
   "execution_count": null,
   "id": "48d77050-1914-4a4e-a60a-f5d7a3724cbc",
   "metadata": {},
   "outputs": [],
   "source": [
    "# Placeholder for the parsed data\n",
    "parsed_data = []\n",
    "\n",
    "# Iterate over each image path\n",
    "for tmp_img_path in new_paths:\n",
    "    # if tmp_img_path != new_paths[0]:\n",
    "    #     break\n",
    "    image_path = os.path.join(\"../../../rshiny/www/all_images/\", tmp_img_path)\n",
    "    base64_image = encode_image(image_path)\n",
    "    \n",
    "    headers = {\n",
    "          \"Content-Type\": \"application/json\",\n",
    "          \"Authorization\": f\"Bearer {api_key}\"\n",
    "        }\n",
    "\n",
    "    payload = {\n",
    "              \"model\": \"gpt-4-vision-preview\",\n",
    "              \"messages\": [\n",
    "                {\n",
    "                  \"role\": \"user\",\n",
    "                  \"content\": [\n",
    "                    {\n",
    "                      \"type\": \"text\",\n",
    "                      \"text\": \"\"\" \n",
    "                      For this image, can you a prediction for the following four labels? \n",
    "                      The product type is based on the appearance of the product, \n",
    "                      the weight is to recognize how heavy the product is by identify the weight information on the appearance,\n",
    "                      the halal status is to recognize if the product is halal food or not, \n",
    "                      and the healthy status is to recognize if the product is healthy if it contains a read triangle shape based on Singapore standard.\n",
    "                      Note that you can only choose one from the given options in the bracket for each label.\n",
    "                        product type (\n",
    "                            'Sugar', 'OtherNoodles', 'Oil', 'BiscuitsCrackersCookies', 'Nuts',\n",
    "                           'HoneyOtherSpreads', 'BeehoonVermicelli', 'MiloPowder',\n",
    "                           'RolledOatsInstantOatmeal', 'OtherSauceDressing',\n",
    "                           'SweetsChocolatesOthers', 'BreakfastCereals', 'Coffee',\n",
    "                           'InstantNoodles', 'CerealBeveragePowder', 'OtherBakingNeeds',\n",
    "                           'BabyMilkPowder', 'MaternalMilkPowder', 'TeaPowderLeaves', 'Pasta',\n",
    "                           'FlavoredMilk', 'Sardines', 'Flour', 'Babyfood', 'Potatochips',\n",
    "                           'Salt', 'Peanutbutter', 'ChilliSauce', 'NutellaChocolate',\n",
    "                           'InstantMeals', 'Kaya', 'AdultMilk', 'CannedPacketCreamersSweet',\n",
    "                           'CornChip', 'SoftDrinks', 'OtherDriedFood', 'FruitJuice',\n",
    "                           'CannedBakedBeans', 'CannedBeefOtherMeats', 'CannedBraisedPeanuts',\n",
    "                           'CannedChicken', 'CannedFruitsCocktail', 'CannedMashrooms',\n",
    "                           'CannedPickles', 'CannedPorkLunchronMeat', 'CannedSardingMackerel',\n",
    "                           'CannedSoup', 'CannedTunaDace', 'CannedVegetarianFood',\n",
    "                           'ChocolateMaltPowder', 'CoffeePowder', 'CookingCreamMilk',\n",
    "                           'CurryPastePowderSauce', 'DarkSoySauce', 'DriedBeans', 'DriedFood',\n",
    "                           'DriedFruits', 'DriedMeatSeafood', 'DriedVegetables',\n",
    "                           'HeabsSpicesPepper', 'Jam', 'KetchupChillSauce', 'LightSoySauce',\n",
    "                           'MilkDrink', 'MilkPowder', 'OtherCannedBeansPeasPeanuts',\n",
    "                           'OtherCannedSeafood', 'OtherCannedVegetables', 'OtherHotBeverages',\n",
    "                           'OtherSpreads', 'PastaSauce', 'SoftDrinksOtherReadyToDrink',\n",
    "                           'SoupStock', 'TeaDrink'\n",
    "                        ),\n",
    "                        weight ('400-499g', '700-799g', '500-599g', '200-299g', '100-199g',\n",
    "                           '1-99g', '300-399g', '600-699g', '800-899g', '1000-1999g',\n",
    "                           '900-999g', '3000-3999g'\n",
    "                        ),\n",
    "                        halal status ('NonHalal', 'Halal'),\n",
    "                        healthy status ('NonHealthy', 'Healthy'),\n",
    "                        \n",
    "                        Also, provide the following assessment\n",
    "                        image reflection (High, Medium, Low)\n",
    "                        image clarity (High, Medium, Low)\n",
    "                        prediction confidence for the product type (High, Medium, Low)\n",
    "                        prediction confidence for the weight (High, Medium, Low)\n",
    "                        prediction confidence for the halal status (High, Medium, Low)\n",
    "                        prediction confidence for the healthy status (High, Medium, Low)\n",
    "\n",
    "                        format your answer in json format so that it could be easily converted to dataframe\n",
    "                        \"\"\"\n",
    "                    },\n",
    "                    {\n",
    "                      \"type\": \"image_url\",\n",
    "                      \"image_url\": {\n",
    "                        \"url\": f\"data:image/jpeg;base64,{base64_image}\"\n",
    "                      }\n",
    "                    }\n",
    "                  ]\n",
    "                }\n",
    "              ],\n",
    "              \"max_tokens\": 300\n",
    "            }\n",
    "\n",
    "\n",
    "    response = requests.post(\"https://api.openai.com/v1/chat/completions\", headers=headers, json=payload)\n",
    "    content = response.json()['choices'][0]['message']['content']\n",
    "\n",
    "    response = requests.post(\"https://api.openai.com/v1/chat/completions\", headers=headers, json=payload)\n",
    "\n",
    "    # Extracting the message content (the table with predictions)\n",
    "    content = response.json()['choices'][0]['message']['content']\n",
    "\n",
    "    # Parsing the content to extract prediction values\n",
    "    # Splitting the content string into lines and then parsing each line\n",
    "    lines = content.strip().split('\\n')[2:]  # Skipping the header\n",
    "\n",
    "    # Parsing the strings to extract the relevant information\n",
    "    data_parsed = [line.replace('\"', '').strip() for line in lines if ':' in line]\n",
    "    data_dict = {item.split(\":\")[0].strip(): item.split(\":\")[1].strip().strip(',') for item in data_parsed}\n",
    "\n",
    "    # Converting the dictionary into a DataFrame\n",
    "    df_from_strings = pd.DataFrame([data_dict])\n",
    "\n",
    "    parsed_data.append(df_from_strings)\n"
   ]
  },
  {
   "cell_type": "code",
   "execution_count": 41,
   "id": "ab8321f7-3a54-4e07-87db-1e0af99b896e",
   "metadata": {},
   "outputs": [
    {
     "data": {
      "text/plain": [
       "[  product type    weight halal status healthy status image reflection  \\\n",
       " 0        Sugar  300-399g        Halal     NonHealthy           Medium   \n",
       " \n",
       "   image clarity prediction confidence for the product type  \\\n",
       " 0          High                                       High   \n",
       " \n",
       "   prediction confidence for the weight  \\\n",
       " 0                                 High   \n",
       " \n",
       "   prediction confidence for the halal status  \\\n",
       " 0                                     Medium   \n",
       " \n",
       "   prediction confidence for the healthy status  \n",
       " 0                                         High  ]"
      ]
     },
     "execution_count": 41,
     "metadata": {},
     "output_type": "execute_result"
    }
   ],
   "source": [
    "parsed_data"
   ]
  },
  {
   "cell_type": "code",
   "execution_count": 54,
   "id": "a3cd881f-e0d4-44f6-b04e-0ceff4570c7d",
   "metadata": {},
   "outputs": [
    {
     "data": {
      "text/html": [
       "<div>\n",
       "<style scoped>\n",
       "    .dataframe tbody tr th:only-of-type {\n",
       "        vertical-align: middle;\n",
       "    }\n",
       "\n",
       "    .dataframe tbody tr th {\n",
       "        vertical-align: top;\n",
       "    }\n",
       "\n",
       "    .dataframe thead th {\n",
       "        text-align: right;\n",
       "    }\n",
       "</style>\n",
       "<table border=\"1\" class=\"dataframe\">\n",
       "  <thead>\n",
       "    <tr style=\"text-align: right;\">\n",
       "      <th></th>\n",
       "      <th>img_filename</th>\n",
       "      <th>product_type</th>\n",
       "      <th>weight</th>\n",
       "      <th>halal</th>\n",
       "      <th>health</th>\n",
       "      <th>image_reflection</th>\n",
       "      <th>image_clarity</th>\n",
       "      <th>product_type_confidence</th>\n",
       "      <th>weight_confidence</th>\n",
       "      <th>halal_confidence</th>\n",
       "      <th>health_confidence</th>\n",
       "    </tr>\n",
       "  </thead>\n",
       "  <tbody>\n",
       "    <tr>\n",
       "      <th>0</th>\n",
       "      <td>IMG_20230428_123528_jpg.rf.5687b7b914f6d9aa98c...</td>\n",
       "      <td>Sugar</td>\n",
       "      <td>300-399g</td>\n",
       "      <td>Halal</td>\n",
       "      <td>NonHealthy</td>\n",
       "      <td>Medium</td>\n",
       "      <td>High</td>\n",
       "      <td>High</td>\n",
       "      <td>High</td>\n",
       "      <td>Medium</td>\n",
       "      <td>High</td>\n",
       "    </tr>\n",
       "  </tbody>\n",
       "</table>\n",
       "</div>"
      ],
      "text/plain": [
       "                                        img_filename product_type    weight  \\\n",
       "0  IMG_20230428_123528_jpg.rf.5687b7b914f6d9aa98c...        Sugar  300-399g   \n",
       "\n",
       "   halal      health image_reflection image_clarity product_type_confidence  \\\n",
       "0  Halal  NonHealthy           Medium          High                    High   \n",
       "\n",
       "  weight_confidence halal_confidence health_confidence  \n",
       "0              High           Medium              High  "
      ]
     },
     "execution_count": 54,
     "metadata": {},
     "output_type": "execute_result"
    }
   ],
   "source": [
    "col_names = ['product_type', 'weight', 'halal', 'health', 'image_reflection', \n",
    "                  'image_clarity', 'product_type_confidence', 'weight_confidence',\n",
    "                  'halal_confidence', 'health_confidence']\n",
    "\n",
    "# Normalizing column names for consistency across all DataFrames\n",
    "normalized_dfs = []\n",
    "# for df in parsed_data:\n",
    "for i in range(len(parsed_data)):\n",
    "    df = parsed_data[i]\n",
    "    if df.shape[1] == 11:\n",
    "        df = df.iloc[:,1:]\n",
    "    # Renaming columns to have consistent names across all DataFrames\n",
    "    df.columns = col_names\n",
    "    normalized_dfs.append(df)\n",
    "\n",
    "# Combining all DataFrames into a single DataFrame\n",
    "combined_df = pd.concat(normalized_dfs, ignore_index=True)\n",
    "\n",
    "# Add img filename\n",
    "combined_df['img_filename'] = image_paths.tolist()[:len(combined_df)]\n",
    "cols = combined_df.columns.tolist()\n",
    "cols = cols[-1:] + cols[:-1]  # Move the last column to the first position\n",
    "combined_df = combined_df[cols] \n",
    "\n",
    "combined_df"
   ]
  },
  {
   "cell_type": "code",
   "execution_count": 55,
   "id": "395642b0-9168-4712-8290-a22c4ff52a24",
   "metadata": {},
   "outputs": [
    {
     "data": {
      "text/plain": [
       "'IMG_20230428_123528_jpg.rf.5687b7b914f6d9aa98cadf060d1e3b00.jpg'"
      ]
     },
     "execution_count": 55,
     "metadata": {},
     "output_type": "execute_result"
    }
   ],
   "source": [
    "combined_df['img_filename'][0]"
   ]
  },
  {
   "cell_type": "code",
   "execution_count": 13,
   "id": "3c8dbc1d-71da-4a19-bad0-389ccb52a3c2",
   "metadata": {},
   "outputs": [],
   "source": [
    "combined_df.to_csv(\"chatgpt/gpt_rst_286-313.csv\")"
   ]
  },
  {
   "cell_type": "markdown",
   "id": "0e31dc0b-d618-41df-8f9c-b7ebc804a119",
   "metadata": {},
   "source": [
    "# Add imgs where big model predicts wrongly"
   ]
  },
  {
   "cell_type": "code",
   "execution_count": 27,
   "id": "6ff04519-44c4-41a1-b16c-b08a96888b80",
   "metadata": {},
   "outputs": [],
   "source": [
    "combined_df.to_csv(\"chatgpt/gptpred_bigmodelwrong.csv\")"
   ]
  },
  {
   "cell_type": "markdown",
   "id": "79c160a2-42ba-4703-aca6-2123fb8fed69",
   "metadata": {},
   "source": [
    "# Combine all gpt predictions"
   ]
  },
  {
   "cell_type": "code",
   "execution_count": 28,
   "id": "b1d1efcd-58d0-4bfb-8220-4ceb5195a531",
   "metadata": {},
   "outputs": [],
   "source": [
    "import pandas as pd\n",
    "import glob"
   ]
  },
  {
   "cell_type": "code",
   "execution_count": 29,
   "id": "8b6fa24d-0d9c-4527-a7f8-aa4c75e74594",
   "metadata": {},
   "outputs": [
    {
     "data": {
      "text/plain": [
       "['chatgpt/gpt_rst_116-160.csv',\n",
       " 'chatgpt/gpt_rst_286-313.csv',\n",
       " 'chatgpt/gpt_rst_161-197.csv',\n",
       " 'chatgpt/gpt_rst_231-246.csv',\n",
       " 'chatgpt/gpt_rst_246-272.csv',\n",
       " 'chatgpt/gptpred_bigmodelwrong.csv',\n",
       " 'chatgpt/gpt_rst_0-115.csv',\n",
       " 'chatgpt/gpt_rst_272-286.csv',\n",
       " 'chatgpt/gpt_rst_198-230.csv']"
      ]
     },
     "execution_count": 29,
     "metadata": {},
     "output_type": "execute_result"
    }
   ],
   "source": [
    "path = 'chatgpt' # Update this to your folder's path\n",
    "all_files = glob.glob(path + \"/*.csv\")\n",
    "all_files"
   ]
  },
  {
   "cell_type": "code",
   "execution_count": 30,
   "id": "73db54f8-8aec-4695-99f2-d8e7049cb124",
   "metadata": {},
   "outputs": [],
   "source": [
    "all_dataframes = [] # A list to store each dataframe\n",
    "\n",
    "for filename in all_files:\n",
    "    df = pd.read_csv(filename, index_col=None, header=0)\n",
    "    all_dataframes.append(df)\n",
    "\n",
    "combined_df = pd.concat(all_dataframes, axis=0, ignore_index=True)\n"
   ]
  },
  {
   "cell_type": "code",
   "execution_count": 31,
   "id": "ca8c841f-881a-4601-9711-a2cf3ea55768",
   "metadata": {},
   "outputs": [
    {
     "data": {
      "text/html": [
       "<div>\n",
       "<style scoped>\n",
       "    .dataframe tbody tr th:only-of-type {\n",
       "        vertical-align: middle;\n",
       "    }\n",
       "\n",
       "    .dataframe tbody tr th {\n",
       "        vertical-align: top;\n",
       "    }\n",
       "\n",
       "    .dataframe thead th {\n",
       "        text-align: right;\n",
       "    }\n",
       "</style>\n",
       "<table border=\"1\" class=\"dataframe\">\n",
       "  <thead>\n",
       "    <tr style=\"text-align: right;\">\n",
       "      <th></th>\n",
       "      <th>img_filename</th>\n",
       "      <th>product_type</th>\n",
       "      <th>image_reflection</th>\n",
       "      <th>image_clarity</th>\n",
       "      <th>prediction_confidence</th>\n",
       "    </tr>\n",
       "  </thead>\n",
       "  <tbody>\n",
       "    <tr>\n",
       "      <th>0</th>\n",
       "      <td>IMG_0184_jpeg.rf.446d62343e17b8ef909b6f0ff4530...</td>\n",
       "      <td>OtherNoodles</td>\n",
       "      <td>Medium</td>\n",
       "      <td>High</td>\n",
       "      <td>Low</td>\n",
       "    </tr>\n",
       "    <tr>\n",
       "      <th>1</th>\n",
       "      <td>IMG_0118_jpeg.rf.305bb0eadb135b869c11332c7173a...</td>\n",
       "      <td>OtherSauceDressingSoupbasePaste</td>\n",
       "      <td>Low</td>\n",
       "      <td>High</td>\n",
       "      <td>High</td>\n",
       "    </tr>\n",
       "    <tr>\n",
       "      <th>2</th>\n",
       "      <td>IMG_0096_jpeg.rf.4b1ab7e2cd4c285bd9e74d1ec1ab0...</td>\n",
       "      <td>Book</td>\n",
       "      <td>Low</td>\n",
       "      <td>Medium</td>\n",
       "      <td>Medium</td>\n",
       "    </tr>\n",
       "    <tr>\n",
       "      <th>3</th>\n",
       "      <td>IMG_0105_jpeg.rf.62a7a2c99f2d635525abcca89cb9f...</td>\n",
       "      <td>OtherSauceDressingSoupbasePaste</td>\n",
       "      <td>Low</td>\n",
       "      <td>Medium</td>\n",
       "      <td>Low</td>\n",
       "    </tr>\n",
       "    <tr>\n",
       "      <th>4</th>\n",
       "      <td>IMG_0124_jpeg.rf.3d66e8ddcd7d9d088875a3e2cf365...</td>\n",
       "      <td>OtherDriedFood</td>\n",
       "      <td>Low</td>\n",
       "      <td>High</td>\n",
       "      <td>High</td>\n",
       "    </tr>\n",
       "  </tbody>\n",
       "</table>\n",
       "</div>"
      ],
      "text/plain": [
       "                                        img_filename  \\\n",
       "0  IMG_0184_jpeg.rf.446d62343e17b8ef909b6f0ff4530...   \n",
       "1  IMG_0118_jpeg.rf.305bb0eadb135b869c11332c7173a...   \n",
       "2  IMG_0096_jpeg.rf.4b1ab7e2cd4c285bd9e74d1ec1ab0...   \n",
       "3  IMG_0105_jpeg.rf.62a7a2c99f2d635525abcca89cb9f...   \n",
       "4  IMG_0124_jpeg.rf.3d66e8ddcd7d9d088875a3e2cf365...   \n",
       "\n",
       "                      product_type image_reflection image_clarity  \\\n",
       "0                     OtherNoodles           Medium          High   \n",
       "1  OtherSauceDressingSoupbasePaste              Low          High   \n",
       "2                             Book              Low        Medium   \n",
       "3  OtherSauceDressingSoupbasePaste              Low        Medium   \n",
       "4                   OtherDriedFood              Low          High   \n",
       "\n",
       "  prediction_confidence  \n",
       "0                   Low  \n",
       "1                  High  \n",
       "2                Medium  \n",
       "3                   Low  \n",
       "4                  High  "
      ]
     },
     "execution_count": 31,
     "metadata": {},
     "output_type": "execute_result"
    }
   ],
   "source": [
    "final_df = combined_df.drop_duplicates()\n",
    "final_df = final_df.iloc[:,1:]\n",
    "final_df.head()"
   ]
  },
  {
   "cell_type": "code",
   "execution_count": 32,
   "id": "1e779b3b-95db-4f25-b262-c5b69edcc75a",
   "metadata": {},
   "outputs": [
    {
     "data": {
      "text/plain": [
       "(350, 5)"
      ]
     },
     "execution_count": 32,
     "metadata": {},
     "output_type": "execute_result"
    }
   ],
   "source": [
    "final_df.shape"
   ]
  },
  {
   "cell_type": "code",
   "execution_count": 33,
   "id": "5469577a-5f5c-4c23-bf91-26b5d6c52263",
   "metadata": {},
   "outputs": [],
   "source": [
    "final_df.to_csv(\"chatgpt_prediction.csv\")"
   ]
  },
  {
   "cell_type": "code",
   "execution_count": null,
   "id": "4c7cea2b-9ffc-402a-a0a3-37fb8e5775fc",
   "metadata": {},
   "outputs": [],
   "source": []
  }
 ],
 "metadata": {
  "kernelspec": {
   "display_name": "py37",
   "language": "python",
   "name": "py37"
  },
  "language_info": {
   "codemirror_mode": {
    "name": "ipython",
    "version": 3
   },
   "file_extension": ".py",
   "mimetype": "text/x-python",
   "name": "python",
   "nbconvert_exporter": "python",
   "pygments_lexer": "ipython3",
   "version": "3.7.13"
  }
 },
 "nbformat": 4,
 "nbformat_minor": 5
}
