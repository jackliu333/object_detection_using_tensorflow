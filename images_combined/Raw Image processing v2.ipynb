{
 "cells": [
  {
   "cell_type": "markdown",
   "id": "6f4c2e2d-80e2-4049-85c2-3c25fe49c82a",
   "metadata": {},
   "source": [
    "# Create folder template for new images"
   ]
  },
  {
   "cell_type": "code",
   "execution_count": 2,
   "id": "176695c5-d239-4cb6-848f-d55626c6d195",
   "metadata": {},
   "outputs": [
    {
     "data": {
      "text/html": [
       "<div>\n",
       "<style scoped>\n",
       "    .dataframe tbody tr th:only-of-type {\n",
       "        vertical-align: middle;\n",
       "    }\n",
       "\n",
       "    .dataframe tbody tr th {\n",
       "        vertical-align: top;\n",
       "    }\n",
       "\n",
       "    .dataframe thead th {\n",
       "        text-align: right;\n",
       "    }\n",
       "</style>\n",
       "<table border=\"1\" class=\"dataframe\">\n",
       "  <thead>\n",
       "    <tr style=\"text-align: right;\">\n",
       "      <th></th>\n",
       "      <th>filepath</th>\n",
       "      <th>xmin</th>\n",
       "      <th>ymin</th>\n",
       "      <th>xmax</th>\n",
       "      <th>ymax</th>\n",
       "      <th>label</th>\n",
       "      <th>folder_name</th>\n",
       "      <th>ProductType</th>\n",
       "      <th>Weight</th>\n",
       "      <th>HalalStatus</th>\n",
       "      <th>HealthStatus</th>\n",
       "    </tr>\n",
       "  </thead>\n",
       "  <tbody>\n",
       "    <tr>\n",
       "      <th>0</th>\n",
       "      <td>IMG_20230428_123528_jpg.rf.5687b7b914f6d9aa98c...</td>\n",
       "      <td>151</td>\n",
       "      <td>42</td>\n",
       "      <td>497</td>\n",
       "      <td>591</td>\n",
       "      <td>Sugar_400-499g_NonHalal_NonHealthy</td>\n",
       "      <td>Sugar_400-499g_NonHalal_NonHealthy-2</td>\n",
       "      <td>Sugar</td>\n",
       "      <td>400-499g</td>\n",
       "      <td>NonHalal</td>\n",
       "      <td>NonHealthy</td>\n",
       "    </tr>\n",
       "    <tr>\n",
       "      <th>1</th>\n",
       "      <td>IMG_20230428_123522_jpg.rf.204ff37f497f2dce442...</td>\n",
       "      <td>88</td>\n",
       "      <td>81</td>\n",
       "      <td>442</td>\n",
       "      <td>567</td>\n",
       "      <td>Sugar_400-499g_NonHalal_NonHealthy</td>\n",
       "      <td>Sugar_400-499g_NonHalal_NonHealthy-2</td>\n",
       "      <td>Sugar</td>\n",
       "      <td>400-499g</td>\n",
       "      <td>NonHalal</td>\n",
       "      <td>NonHealthy</td>\n",
       "    </tr>\n",
       "    <tr>\n",
       "      <th>2</th>\n",
       "      <td>IMG_20230428_123708_jpg.rf.141ecd0cefaea75c0b7...</td>\n",
       "      <td>35</td>\n",
       "      <td>34</td>\n",
       "      <td>492</td>\n",
       "      <td>622</td>\n",
       "      <td>Sugar_400-499g_NonHalal_NonHealthy</td>\n",
       "      <td>Sugar_400-499g_NonHalal_NonHealthy-2</td>\n",
       "      <td>Sugar</td>\n",
       "      <td>400-499g</td>\n",
       "      <td>NonHalal</td>\n",
       "      <td>NonHealthy</td>\n",
       "    </tr>\n",
       "    <tr>\n",
       "      <th>3</th>\n",
       "      <td>IMG_20230428_123521_jpg.rf.1069b402272252862ec...</td>\n",
       "      <td>99</td>\n",
       "      <td>122</td>\n",
       "      <td>428</td>\n",
       "      <td>587</td>\n",
       "      <td>Sugar_400-499g_NonHalal_NonHealthy</td>\n",
       "      <td>Sugar_400-499g_NonHalal_NonHealthy-2</td>\n",
       "      <td>Sugar</td>\n",
       "      <td>400-499g</td>\n",
       "      <td>NonHalal</td>\n",
       "      <td>NonHealthy</td>\n",
       "    </tr>\n",
       "    <tr>\n",
       "      <th>4</th>\n",
       "      <td>IMG_20230428_123659_jpg.rf.5e1b6c4caabe48cf360...</td>\n",
       "      <td>103</td>\n",
       "      <td>17</td>\n",
       "      <td>474</td>\n",
       "      <td>592</td>\n",
       "      <td>Sugar_400-499g_NonHalal_NonHealthy</td>\n",
       "      <td>Sugar_400-499g_NonHalal_NonHealthy-2</td>\n",
       "      <td>Sugar</td>\n",
       "      <td>400-499g</td>\n",
       "      <td>NonHalal</td>\n",
       "      <td>NonHealthy</td>\n",
       "    </tr>\n",
       "  </tbody>\n",
       "</table>\n",
       "</div>"
      ],
      "text/plain": [
       "                                            filepath  xmin  ymin  xmax  ymax  \\\n",
       "0  IMG_20230428_123528_jpg.rf.5687b7b914f6d9aa98c...   151    42   497   591   \n",
       "1  IMG_20230428_123522_jpg.rf.204ff37f497f2dce442...    88    81   442   567   \n",
       "2  IMG_20230428_123708_jpg.rf.141ecd0cefaea75c0b7...    35    34   492   622   \n",
       "3  IMG_20230428_123521_jpg.rf.1069b402272252862ec...    99   122   428   587   \n",
       "4  IMG_20230428_123659_jpg.rf.5e1b6c4caabe48cf360...   103    17   474   592   \n",
       "\n",
       "                                label                           folder_name  \\\n",
       "0  Sugar_400-499g_NonHalal_NonHealthy  Sugar_400-499g_NonHalal_NonHealthy-2   \n",
       "1  Sugar_400-499g_NonHalal_NonHealthy  Sugar_400-499g_NonHalal_NonHealthy-2   \n",
       "2  Sugar_400-499g_NonHalal_NonHealthy  Sugar_400-499g_NonHalal_NonHealthy-2   \n",
       "3  Sugar_400-499g_NonHalal_NonHealthy  Sugar_400-499g_NonHalal_NonHealthy-2   \n",
       "4  Sugar_400-499g_NonHalal_NonHealthy  Sugar_400-499g_NonHalal_NonHealthy-2   \n",
       "\n",
       "  ProductType    Weight HalalStatus HealthStatus  \n",
       "0       Sugar  400-499g    NonHalal   NonHealthy  \n",
       "1       Sugar  400-499g    NonHalal   NonHealthy  \n",
       "2       Sugar  400-499g    NonHalal   NonHealthy  \n",
       "3       Sugar  400-499g    NonHalal   NonHealthy  \n",
       "4       Sugar  400-499g    NonHalal   NonHealthy  "
      ]
     },
     "execution_count": 2,
     "metadata": {},
     "output_type": "execute_result"
    }
   ],
   "source": [
    "import pandas as pd\n",
    "\n",
    "annotation_df = pd.read_csv(\"backup/raw_master_list2.csv\")\n",
    "annotation_df.head()"
   ]
  },
  {
   "cell_type": "code",
   "execution_count": 4,
   "id": "b773a3a8-9672-4a1a-b449-b9958ed79e55",
   "metadata": {},
   "outputs": [
    {
     "data": {
      "text/plain": [
       "array(['Sugar_400-499g_NonHalal_NonHealthy',\n",
       "       'OtherNoodles_700-799g_Halal_NonHealthy',\n",
       "       'OtherNoodles_400-499g_Halal_NonHealthy',\n",
       "       'Oil_500-599g_Halal_NonHealthy',\n",
       "       'Crackers_200-299g_Halal_NonHealthy',\n",
       "       'Crackers_100-199g_Halal_NonHealthy',\n",
       "       'Nuts_1-99g_NonHalal_NonHealthy',\n",
       "       'SweetsChocolatesOthers_1-99g_NonHalal_NonHealthy',\n",
       "       'HoneyOtherSpreads_300-399g_NonHalal_NonHealthy',\n",
       "       'OtherNoodles_400-499g_NonHalal_NonHealthy'], dtype=object)"
      ]
     },
     "execution_count": 4,
     "metadata": {},
     "output_type": "execute_result"
    }
   ],
   "source": [
    "unique_labels = annotation_df[\"label\"].unique()\n",
    "unique_labels[:10]"
   ]
  },
  {
   "cell_type": "code",
   "execution_count": 5,
   "id": "dcdc1b81-461e-4e8e-a64d-b6c4c3a793d5",
   "metadata": {},
   "outputs": [
    {
     "data": {
      "text/plain": [
       "150"
      ]
     },
     "execution_count": 5,
     "metadata": {},
     "output_type": "execute_result"
    }
   ],
   "source": [
    "len(unique_labels)"
   ]
  },
  {
   "cell_type": "code",
   "execution_count": 7,
   "id": "a907fbef-53d4-4898-a63b-76e28861059b",
   "metadata": {},
   "outputs": [],
   "source": [
    "import os\n",
    "\n",
    "for tmp_folder_name in unique_labels:\n",
    "    tmp_folder_path = os.path.join(os.getcwd(), \"image_folder_template\", tmp_folder_name)\n",
    "    # The 'exist_ok' parameter is set to True, which means the directory won't be created if it exists\n",
    "    os.makedirs(tmp_folder_path, exist_ok=True)"
   ]
  },
  {
   "cell_type": "code",
   "execution_count": null,
   "id": "b478f502-e501-4f33-afa8-5aca0ddbb82d",
   "metadata": {},
   "outputs": [],
   "source": []
  }
 ],
 "metadata": {
  "kernelspec": {
   "display_name": "fb_py38",
   "language": "python",
   "name": "fb_py38"
  },
  "language_info": {
   "codemirror_mode": {
    "name": "ipython",
    "version": 3
   },
   "file_extension": ".py",
   "mimetype": "text/x-python",
   "name": "python",
   "nbconvert_exporter": "python",
   "pygments_lexer": "ipython3",
   "version": "3.8.17"
  }
 },
 "nbformat": 4,
 "nbformat_minor": 5
}
