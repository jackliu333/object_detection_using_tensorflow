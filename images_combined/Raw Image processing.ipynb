{
 "cells": [
  {
   "cell_type": "markdown",
   "id": "6f4c2e2d-80e2-4049-85c2-3c25fe49c82a",
   "metadata": {},
   "source": [
    "# Create folder template for new images"
   ]
  },
  {
   "cell_type": "code",
   "execution_count": 1,
   "id": "176695c5-d239-4cb6-848f-d55626c6d195",
   "metadata": {},
   "outputs": [
    {
     "data": {
      "text/html": [
       "<div>\n",
       "<style scoped>\n",
       "    .dataframe tbody tr th:only-of-type {\n",
       "        vertical-align: middle;\n",
       "    }\n",
       "\n",
       "    .dataframe tbody tr th {\n",
       "        vertical-align: top;\n",
       "    }\n",
       "\n",
       "    .dataframe thead th {\n",
       "        text-align: right;\n",
       "    }\n",
       "</style>\n",
       "<table border=\"1\" class=\"dataframe\">\n",
       "  <thead>\n",
       "    <tr style=\"text-align: right;\">\n",
       "      <th></th>\n",
       "      <th>Unnamed: 0</th>\n",
       "      <th>filepath</th>\n",
       "      <th>xmin</th>\n",
       "      <th>ymin</th>\n",
       "      <th>xmax</th>\n",
       "      <th>ymax</th>\n",
       "      <th>label</th>\n",
       "      <th>folder_name</th>\n",
       "      <th>ProductType</th>\n",
       "      <th>Weight</th>\n",
       "      <th>HalalStatus</th>\n",
       "      <th>HealthStatus</th>\n",
       "    </tr>\n",
       "  </thead>\n",
       "  <tbody>\n",
       "    <tr>\n",
       "      <th>0</th>\n",
       "      <td>0</td>\n",
       "      <td>IMG_20230428_123528_jpg.rf.5687b7b914f6d9aa98c...</td>\n",
       "      <td>151</td>\n",
       "      <td>42</td>\n",
       "      <td>497</td>\n",
       "      <td>591</td>\n",
       "      <td>Sugar_400-499g_NonHalal_NonHealthy</td>\n",
       "      <td>Sugar_400-499g_NonHalal_NonHealthy-2</td>\n",
       "      <td>Sugar</td>\n",
       "      <td>400-499g</td>\n",
       "      <td>NonHalal</td>\n",
       "      <td>NonHealthy</td>\n",
       "    </tr>\n",
       "    <tr>\n",
       "      <th>1</th>\n",
       "      <td>1</td>\n",
       "      <td>IMG_20230428_123522_jpg.rf.204ff37f497f2dce442...</td>\n",
       "      <td>88</td>\n",
       "      <td>81</td>\n",
       "      <td>442</td>\n",
       "      <td>567</td>\n",
       "      <td>Sugar_400-499g_NonHalal_NonHealthy</td>\n",
       "      <td>Sugar_400-499g_NonHalal_NonHealthy-2</td>\n",
       "      <td>Sugar</td>\n",
       "      <td>400-499g</td>\n",
       "      <td>NonHalal</td>\n",
       "      <td>NonHealthy</td>\n",
       "    </tr>\n",
       "    <tr>\n",
       "      <th>2</th>\n",
       "      <td>2</td>\n",
       "      <td>IMG_20230428_123708_jpg.rf.141ecd0cefaea75c0b7...</td>\n",
       "      <td>35</td>\n",
       "      <td>34</td>\n",
       "      <td>492</td>\n",
       "      <td>622</td>\n",
       "      <td>Sugar_400-499g_NonHalal_NonHealthy</td>\n",
       "      <td>Sugar_400-499g_NonHalal_NonHealthy-2</td>\n",
       "      <td>Sugar</td>\n",
       "      <td>400-499g</td>\n",
       "      <td>NonHalal</td>\n",
       "      <td>NonHealthy</td>\n",
       "    </tr>\n",
       "    <tr>\n",
       "      <th>3</th>\n",
       "      <td>3</td>\n",
       "      <td>IMG_20230428_123521_jpg.rf.1069b402272252862ec...</td>\n",
       "      <td>99</td>\n",
       "      <td>122</td>\n",
       "      <td>428</td>\n",
       "      <td>587</td>\n",
       "      <td>Sugar_400-499g_NonHalal_NonHealthy</td>\n",
       "      <td>Sugar_400-499g_NonHalal_NonHealthy-2</td>\n",
       "      <td>Sugar</td>\n",
       "      <td>400-499g</td>\n",
       "      <td>NonHalal</td>\n",
       "      <td>NonHealthy</td>\n",
       "    </tr>\n",
       "    <tr>\n",
       "      <th>4</th>\n",
       "      <td>4</td>\n",
       "      <td>IMG_20230428_123659_jpg.rf.5e1b6c4caabe48cf360...</td>\n",
       "      <td>103</td>\n",
       "      <td>17</td>\n",
       "      <td>474</td>\n",
       "      <td>592</td>\n",
       "      <td>Sugar_400-499g_NonHalal_NonHealthy</td>\n",
       "      <td>Sugar_400-499g_NonHalal_NonHealthy-2</td>\n",
       "      <td>Sugar</td>\n",
       "      <td>400-499g</td>\n",
       "      <td>NonHalal</td>\n",
       "      <td>NonHealthy</td>\n",
       "    </tr>\n",
       "  </tbody>\n",
       "</table>\n",
       "</div>"
      ],
      "text/plain": [
       "   Unnamed: 0                                           filepath  xmin  ymin  \\\n",
       "0           0  IMG_20230428_123528_jpg.rf.5687b7b914f6d9aa98c...   151    42   \n",
       "1           1  IMG_20230428_123522_jpg.rf.204ff37f497f2dce442...    88    81   \n",
       "2           2  IMG_20230428_123708_jpg.rf.141ecd0cefaea75c0b7...    35    34   \n",
       "3           3  IMG_20230428_123521_jpg.rf.1069b402272252862ec...    99   122   \n",
       "4           4  IMG_20230428_123659_jpg.rf.5e1b6c4caabe48cf360...   103    17   \n",
       "\n",
       "   xmax  ymax                               label  \\\n",
       "0   497   591  Sugar_400-499g_NonHalal_NonHealthy   \n",
       "1   442   567  Sugar_400-499g_NonHalal_NonHealthy   \n",
       "2   492   622  Sugar_400-499g_NonHalal_NonHealthy   \n",
       "3   428   587  Sugar_400-499g_NonHalal_NonHealthy   \n",
       "4   474   592  Sugar_400-499g_NonHalal_NonHealthy   \n",
       "\n",
       "                            folder_name ProductType    Weight HalalStatus  \\\n",
       "0  Sugar_400-499g_NonHalal_NonHealthy-2       Sugar  400-499g    NonHalal   \n",
       "1  Sugar_400-499g_NonHalal_NonHealthy-2       Sugar  400-499g    NonHalal   \n",
       "2  Sugar_400-499g_NonHalal_NonHealthy-2       Sugar  400-499g    NonHalal   \n",
       "3  Sugar_400-499g_NonHalal_NonHealthy-2       Sugar  400-499g    NonHalal   \n",
       "4  Sugar_400-499g_NonHalal_NonHealthy-2       Sugar  400-499g    NonHalal   \n",
       "\n",
       "  HealthStatus  \n",
       "0   NonHealthy  \n",
       "1   NonHealthy  \n",
       "2   NonHealthy  \n",
       "3   NonHealthy  \n",
       "4   NonHealthy  "
      ]
     },
     "execution_count": 1,
     "metadata": {},
     "output_type": "execute_result"
    }
   ],
   "source": [
    "import pandas as pd\n",
    "\n",
    "annotation_df = pd.read_csv(\"master_list.csv\")\n",
    "annotation_df.head()"
   ]
  },
  {
   "cell_type": "code",
   "execution_count": 2,
   "id": "b773a3a8-9672-4a1a-b449-b9958ed79e55",
   "metadata": {},
   "outputs": [
    {
     "data": {
      "text/plain": [
       "array(['Sugar_400-499g_NonHalal_NonHealthy',\n",
       "       'OtherNoodles_700-799g_Halal_NonHealthy',\n",
       "       'OtherNoodles_400-499g_Halal_NonHealthy',\n",
       "       'Oil_500-599g_Halal_NonHealthy',\n",
       "       'Crackers_200-299g_Halal_NonHealthy',\n",
       "       'Crackers_100-199g_Halal_NonHealthy',\n",
       "       'Nuts_1-99g_NonHalal_NonHealthy',\n",
       "       'SweetsChocolatesOthers_1-99g_NonHalal_NonHealthy',\n",
       "       'HoneyOtherSpreads_300-399g_NonHalal_NonHealthy',\n",
       "       'OtherNoodles_400-499g_NonHalal_NonHealthy'], dtype=object)"
      ]
     },
     "execution_count": 2,
     "metadata": {},
     "output_type": "execute_result"
    }
   ],
   "source": [
    "unique_labels = annotation_df[\"label\"].unique()\n",
    "unique_labels[:10]"
   ]
  },
  {
   "cell_type": "code",
   "execution_count": 3,
   "id": "dcdc1b81-461e-4e8e-a64d-b6c4c3a793d5",
   "metadata": {},
   "outputs": [
    {
     "data": {
      "text/plain": [
       "150"
      ]
     },
     "execution_count": 3,
     "metadata": {},
     "output_type": "execute_result"
    }
   ],
   "source": [
    "len(unique_labels)"
   ]
  },
  {
   "cell_type": "code",
   "execution_count": 5,
   "id": "a907fbef-53d4-4898-a63b-76e28861059b",
   "metadata": {},
   "outputs": [
    {
     "name": "stdout",
     "output_type": "stream",
     "text": [
      "The folder /Users/liupeng/Documents/GitHub/object_detection_using_tensorflow/images_combined/image_folder_template has been deleted.\n"
     ]
    }
   ],
   "source": [
    "import os\n",
    "import shutil\n",
    "\n",
    "folder_path = os.path.join(os.getcwd(), \"image_folder_template\")\n",
    "\n",
    "# Check if the folder exists\n",
    "if os.path.exists(folder_path):\n",
    "    # Remove the folder and its contents\n",
    "    shutil.rmtree(folder_path)\n",
    "    print(f\"The folder {folder_path} has been deleted.\")\n",
    "else:\n",
    "    print(f\"The folder {folder_path} does not exist.\")\n",
    "\n",
    "for tmp_folder_name in unique_labels:\n",
    "    tmp_folder_path = os.path.join(folder_path, tmp_folder_name)\n",
    "    # The 'exist_ok' parameter is set to True, which means the directory won't be created if it exists\n",
    "    os.makedirs(tmp_folder_path, exist_ok=True)\n",
    "    \n",
    "    # add .gitkeep file in each empty folder; otherwise it will not be uploaded in github\n",
    "    # Create the .gitkeep file within the folder\n",
    "    gitkeep_path = os.path.join(tmp_folder_path, \".gitkeep\")\n",
    "    # Create the .gitkeep file (it will be empty)\n",
    "    with open(gitkeep_path, 'w'):\n",
    "        pass"
   ]
  },
  {
   "cell_type": "markdown",
   "id": "afe093fc-f6ce-433b-8a67-d9674dde89ab",
   "metadata": {},
   "source": [
    "# Update master list (for existing training images)"
   ]
  },
  {
   "cell_type": "code",
   "execution_count": 1,
   "id": "e9d57050-4c42-40c1-9849-c9f333dbbc8b",
   "metadata": {},
   "outputs": [
    {
     "data": {
      "text/html": [
       "<div>\n",
       "<style scoped>\n",
       "    .dataframe tbody tr th:only-of-type {\n",
       "        vertical-align: middle;\n",
       "    }\n",
       "\n",
       "    .dataframe tbody tr th {\n",
       "        vertical-align: top;\n",
       "    }\n",
       "\n",
       "    .dataframe thead th {\n",
       "        text-align: right;\n",
       "    }\n",
       "</style>\n",
       "<table border=\"1\" class=\"dataframe\">\n",
       "  <thead>\n",
       "    <tr style=\"text-align: right;\">\n",
       "      <th></th>\n",
       "      <th>filepath</th>\n",
       "      <th>xmin</th>\n",
       "      <th>ymin</th>\n",
       "      <th>xmax</th>\n",
       "      <th>ymax</th>\n",
       "      <th>label</th>\n",
       "      <th>folder_name</th>\n",
       "      <th>ProductType</th>\n",
       "      <th>Weight</th>\n",
       "      <th>HalalStatus</th>\n",
       "      <th>HealthStatus</th>\n",
       "    </tr>\n",
       "  </thead>\n",
       "  <tbody>\n",
       "    <tr>\n",
       "      <th>0</th>\n",
       "      <td>IMG_20230428_123528_jpg.rf.5687b7b914f6d9aa98c...</td>\n",
       "      <td>151</td>\n",
       "      <td>42</td>\n",
       "      <td>497</td>\n",
       "      <td>591</td>\n",
       "      <td>Sugar_400-499g_NonHalal_NonHealthy</td>\n",
       "      <td>Sugar_400-499g_NonHalal_NonHealthy-2</td>\n",
       "      <td>Sugar</td>\n",
       "      <td>400-499g</td>\n",
       "      <td>NonHalal</td>\n",
       "      <td>NonHealthy</td>\n",
       "    </tr>\n",
       "    <tr>\n",
       "      <th>1</th>\n",
       "      <td>IMG_20230428_123522_jpg.rf.204ff37f497f2dce442...</td>\n",
       "      <td>88</td>\n",
       "      <td>81</td>\n",
       "      <td>442</td>\n",
       "      <td>567</td>\n",
       "      <td>Sugar_400-499g_NonHalal_NonHealthy</td>\n",
       "      <td>Sugar_400-499g_NonHalal_NonHealthy-2</td>\n",
       "      <td>Sugar</td>\n",
       "      <td>400-499g</td>\n",
       "      <td>NonHalal</td>\n",
       "      <td>NonHealthy</td>\n",
       "    </tr>\n",
       "    <tr>\n",
       "      <th>2</th>\n",
       "      <td>IMG_20230428_123708_jpg.rf.141ecd0cefaea75c0b7...</td>\n",
       "      <td>35</td>\n",
       "      <td>34</td>\n",
       "      <td>492</td>\n",
       "      <td>622</td>\n",
       "      <td>Sugar_400-499g_NonHalal_NonHealthy</td>\n",
       "      <td>Sugar_400-499g_NonHalal_NonHealthy-2</td>\n",
       "      <td>Sugar</td>\n",
       "      <td>400-499g</td>\n",
       "      <td>NonHalal</td>\n",
       "      <td>NonHealthy</td>\n",
       "    </tr>\n",
       "    <tr>\n",
       "      <th>3</th>\n",
       "      <td>IMG_20230428_123521_jpg.rf.1069b402272252862ec...</td>\n",
       "      <td>99</td>\n",
       "      <td>122</td>\n",
       "      <td>428</td>\n",
       "      <td>587</td>\n",
       "      <td>Sugar_400-499g_NonHalal_NonHealthy</td>\n",
       "      <td>Sugar_400-499g_NonHalal_NonHealthy-2</td>\n",
       "      <td>Sugar</td>\n",
       "      <td>400-499g</td>\n",
       "      <td>NonHalal</td>\n",
       "      <td>NonHealthy</td>\n",
       "    </tr>\n",
       "    <tr>\n",
       "      <th>4</th>\n",
       "      <td>IMG_20230428_123659_jpg.rf.5e1b6c4caabe48cf360...</td>\n",
       "      <td>103</td>\n",
       "      <td>17</td>\n",
       "      <td>474</td>\n",
       "      <td>592</td>\n",
       "      <td>Sugar_400-499g_NonHalal_NonHealthy</td>\n",
       "      <td>Sugar_400-499g_NonHalal_NonHealthy-2</td>\n",
       "      <td>Sugar</td>\n",
       "      <td>400-499g</td>\n",
       "      <td>NonHalal</td>\n",
       "      <td>NonHealthy</td>\n",
       "    </tr>\n",
       "  </tbody>\n",
       "</table>\n",
       "</div>"
      ],
      "text/plain": [
       "                                            filepath  xmin  ymin  xmax  ymax  \\\n",
       "0  IMG_20230428_123528_jpg.rf.5687b7b914f6d9aa98c...   151    42   497   591   \n",
       "1  IMG_20230428_123522_jpg.rf.204ff37f497f2dce442...    88    81   442   567   \n",
       "2  IMG_20230428_123708_jpg.rf.141ecd0cefaea75c0b7...    35    34   492   622   \n",
       "3  IMG_20230428_123521_jpg.rf.1069b402272252862ec...    99   122   428   587   \n",
       "4  IMG_20230428_123659_jpg.rf.5e1b6c4caabe48cf360...   103    17   474   592   \n",
       "\n",
       "                                label                           folder_name  \\\n",
       "0  Sugar_400-499g_NonHalal_NonHealthy  Sugar_400-499g_NonHalal_NonHealthy-2   \n",
       "1  Sugar_400-499g_NonHalal_NonHealthy  Sugar_400-499g_NonHalal_NonHealthy-2   \n",
       "2  Sugar_400-499g_NonHalal_NonHealthy  Sugar_400-499g_NonHalal_NonHealthy-2   \n",
       "3  Sugar_400-499g_NonHalal_NonHealthy  Sugar_400-499g_NonHalal_NonHealthy-2   \n",
       "4  Sugar_400-499g_NonHalal_NonHealthy  Sugar_400-499g_NonHalal_NonHealthy-2   \n",
       "\n",
       "  ProductType    Weight HalalStatus HealthStatus  \n",
       "0       Sugar  400-499g    NonHalal   NonHealthy  \n",
       "1       Sugar  400-499g    NonHalal   NonHealthy  \n",
       "2       Sugar  400-499g    NonHalal   NonHealthy  \n",
       "3       Sugar  400-499g    NonHalal   NonHealthy  \n",
       "4       Sugar  400-499g    NonHalal   NonHealthy  "
      ]
     },
     "execution_count": 1,
     "metadata": {},
     "output_type": "execute_result"
    }
   ],
   "source": [
    "import pandas as pd\n",
    "\n",
    "annotation_df = pd.read_csv(\"master_list.csv\")\n",
    "unique_labels = annotation_df[\"label\"].unique()\n",
    "annotation_df.head()"
   ]
  },
  {
   "cell_type": "code",
   "execution_count": 10,
   "id": "d1eed361-7748-403a-be06-eecab5468af0",
   "metadata": {},
   "outputs": [],
   "source": [
    "import os\n",
    "import xml.etree.ElementTree as ET\n",
    "import shutil\n",
    "\n",
    "folder_path = os.path.join(os.getcwd(), \"image_folder_template\")\n",
    "\n",
    "for tmp_folder_name in unique_labels:\n",
    "    tmp_folder_path = os.path.join(folder_path, tmp_folder_name)\n",
    "    # only look at folders with new images\n",
    "    if len(os.listdir(tmp_folder_path)) != 0:\n",
    "        # loop through each file\n",
    "        for tmp_file_name in os.listdir(tmp_folder_path):\n",
    "            # ignore xml file\n",
    "            if not tmp_file_name.endswith('.xml'):\n",
    "                # only add new images\n",
    "                if tmp_file_name not in annotation_df['filepath']:\n",
    "                    tmp_label = tmp_folder_name\n",
    "                    tmp_folder_name = tmp_folder_name\n",
    "                    tmp_ProductType = tmp_folder_name.split(\"_\")[0]\n",
    "                    tmp_Weight = tmp_folder_name.split(\"_\")[1]\n",
    "                    tmp_HalalStatus = tmp_folder_name.split(\"_\")[2]\n",
    "                    tmp_HealthStatus = tmp_folder_name.split(\"_\")[3]\n",
    "                    tmp_filepath = tmp_file_name\n",
    "                    \n",
    "                    tree = ET.parse(os.path.join(tmp_folder_path, tmp_file_name[:-4] + \".xml\"))\n",
    "                    # Get the root element\n",
    "                    root = tree.getroot()\n",
    "                    # Find the 'bndbox' element\n",
    "                    bndbox = root.find('.//bndbox')\n",
    "                    # Extract the coordinates\n",
    "                    tmp_xmin = int(bndbox.find('xmin').text)\n",
    "                    tmp_ymin = int(bndbox.find('ymin').text)\n",
    "                    tmp_xmax = int(bndbox.find('xmax').text)\n",
    "                    tmp_ymax = int(bndbox.find('ymax').text)\n",
    "                    \n",
    "                    new_row = {'filepath': tmp_filepath, 'xmin': tmp_xmin, 'ymin': tmp_ymin, 'xmax': tmp_xmax, 'ymax': tmp_ymax,\n",
    "                              'label': tmp_label, 'folder_name': tmp_folder_name, 'ProductType': tmp_ProductType,\n",
    "                              'Weight': tmp_Weight, 'HalalStatus': tmp_HalalStatus, 'HealthStatus': tmp_HealthStatus}\n",
    "                    \n",
    "                    annotation_df = pd.concat([annotation_df, pd.DataFrame([new_row])], ignore_index=True)\n",
    "                else:\n",
    "                    print(tmp_file_name)\n",
    "                    raise ValueError(\"Duplicate entry!\")\n",
    "        \n",
    "        # Iterate over all files in the source folder\n",
    "        destination_folder = os.path.join(os.getcwd(), \"data_edit\")\n",
    "        for filename in os.listdir(tmp_folder_path):\n",
    "            source = os.path.join(tmp_folder_path, filename)\n",
    "            destination = os.path.join(destination_folder, filename)\n",
    "\n",
    "            # Copy each file to the destination folder\n",
    "            shutil.copy2(source, destination)"
   ]
  },
  {
   "cell_type": "code",
   "execution_count": 11,
   "id": "0c1eeba6-66a5-4fd7-ac73-54f0aa60afa8",
   "metadata": {},
   "outputs": [],
   "source": [
    "annotation_df.to_csv(\"master_list.csv\")"
   ]
  },
  {
   "cell_type": "markdown",
   "id": "554be47c-b3cb-40b4-b710-fd34d455c94c",
   "metadata": {},
   "source": [
    "### Rememeber to cleanse the image folder template after adding images by running the first section's codes"
   ]
  },
  {
   "cell_type": "markdown",
   "id": "8668267f-1e90-4b1f-bf5c-1b673517954a",
   "metadata": {},
   "source": [
    "# To complete: create master list for new images"
   ]
  },
  {
   "cell_type": "code",
   "execution_count": 12,
   "id": "d164c7ac-a2ae-4c36-bd3f-ccd899ba1458",
   "metadata": {},
   "outputs": [
    {
     "name": "stderr",
     "output_type": "stream",
     "text": [
      "[ WARN:0@660.500] global loadsave.cpp:244 findDecoder imread_('data_edit/Photo on 9-11-23 at 4.33_PM #3.jpg'): can't open/read file: check file path/integrity\n"
     ]
    }
   ],
   "source": [
    "import cv2\n",
    "\n",
    "frame = cv2.imread(\"data_edit/Photo on 9-11-23 at 4.33_PM #3.jpg\")"
   ]
  },
  {
   "cell_type": "code",
   "execution_count": null,
   "id": "f60e7b30-9f01-4c21-989a-bf1d5725da09",
   "metadata": {},
   "outputs": [],
   "source": [
    "Photo on 9-11-23 at 4.33 PM #3.jpg"
   ]
  }
 ],
 "metadata": {
  "kernelspec": {
   "display_name": "fb_py38",
   "language": "python",
   "name": "fb_py38"
  },
  "language_info": {
   "codemirror_mode": {
    "name": "ipython",
    "version": 3
   },
   "file_extension": ".py",
   "mimetype": "text/x-python",
   "name": "python",
   "nbconvert_exporter": "python",
   "pygments_lexer": "ipython3",
   "version": "3.8.17"
  }
 },
 "nbformat": 4,
 "nbformat_minor": 5
}
